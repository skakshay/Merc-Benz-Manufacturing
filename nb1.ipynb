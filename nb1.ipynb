{
 "cells": [
  {
   "cell_type": "code",
   "execution_count": 1,
   "metadata": {
    "ExecuteTime": {
     "end_time": "2018-01-22T18:56:59.036504Z",
     "start_time": "2018-01-22T18:56:59.025132Z"
    }
   },
   "outputs": [],
   "source": [
    "from IPython.core.interactiveshell import InteractiveShell \n",
    "InteractiveShell.ast_node_interactivity = \"all\""
   ]
  },
  {
   "cell_type": "code",
   "execution_count": 109,
   "metadata": {
    "ExecuteTime": {
     "end_time": "2018-01-22T22:25:37.222049Z",
     "start_time": "2018-01-22T22:25:37.178062Z"
    }
   },
   "outputs": [],
   "source": [
    "%matplotlib inline\n",
    "from tqdm import tqdm\n",
    "import numpy as np\n",
    "import pandas as pd\n",
    "from scipy import stats\n",
    "import seaborn as sns\n",
    "import matplotlib as mpl\n",
    "import matplotlib.pyplot as plt\n",
    "from sklearn.feature_selection import VarianceThreshold\n",
    "from sklearn.preprocessing import LabelEncoder\n",
    "from sklearn.ensemble import RandomForestRegressor\n",
    "from sklearn.model_selection import cross_val_score\n",
    "path = \"../../csv/Mercedes-Benz Greener Manufacturing/\""
   ]
  },
  {
   "cell_type": "code",
   "execution_count": 83,
   "metadata": {
    "ExecuteTime": {
     "end_time": "2018-01-22T21:04:51.880395Z",
     "start_time": "2018-01-22T21:04:51.778456Z"
    }
   },
   "outputs": [],
   "source": [
    "def feat_to_rem(train, test, columns):\n",
    "    features=[]\n",
    "    for col in columns : \n",
    "        level_train = list(train[col].value_counts().index)\n",
    "        level_test = list(test[col].value_counts().index)\n",
    "        excl_feat = [l for l in level_test if l not in level_train]\n",
    "        features.extend([col+'_'+ f for f in excl_feat])\n",
    "    return features\n",
    "\n",
    "def exclusive_levels(train, test, columns):\n",
    "    for col in columns:\n",
    "        train_levels = list(train[col].value_counts().index)\n",
    "        test_levels = list(test[col].value_counts().index)\n",
    "        exc_train = [lev for lev in train_levels if lev not in test_levels]\n",
    "        exc_test = [lev for lev in test_levels if lev not in train_levels]\n",
    "        print ('Exclusive {0}'.format(col))\n",
    "        print ('{0} levels in train and not in test : {1}'.format(len(exc_train), exc_train))\n",
    "        print ('{0} levels in test and not in train : {1}'.format(len(exc_test), exc_test))"
   ]
  },
  {
   "cell_type": "code",
   "execution_count": 5,
   "metadata": {
    "ExecuteTime": {
     "end_time": "2018-01-22T18:57:19.882916Z",
     "start_time": "2018-01-22T18:57:18.854597Z"
    }
   },
   "outputs": [],
   "source": [
    "train = pd.read_csv(path+\"train.csv\")\n",
    "test = pd.read_csv(path+\"test.csv\")"
   ]
  },
  {
   "cell_type": "code",
   "execution_count": 75,
   "metadata": {},
   "outputs": [
    {
     "data": {
      "text/html": [
       "<div>\n",
       "<style>\n",
       "    .dataframe thead tr:only-child th {\n",
       "        text-align: right;\n",
       "    }\n",
       "\n",
       "    .dataframe thead th {\n",
       "        text-align: left;\n",
       "    }\n",
       "\n",
       "    .dataframe tbody tr th {\n",
       "        vertical-align: top;\n",
       "    }\n",
       "</style>\n",
       "<table border=\"1\" class=\"dataframe\">\n",
       "  <thead>\n",
       "    <tr style=\"text-align: right;\">\n",
       "      <th></th>\n",
       "      <th>ID</th>\n",
       "      <th>y</th>\n",
       "      <th>X0</th>\n",
       "      <th>X1</th>\n",
       "      <th>X2</th>\n",
       "      <th>X3</th>\n",
       "      <th>X4</th>\n",
       "      <th>X5</th>\n",
       "      <th>X6</th>\n",
       "      <th>X8</th>\n",
       "      <th>...</th>\n",
       "      <th>X375</th>\n",
       "      <th>X376</th>\n",
       "      <th>X377</th>\n",
       "      <th>X378</th>\n",
       "      <th>X379</th>\n",
       "      <th>X380</th>\n",
       "      <th>X382</th>\n",
       "      <th>X383</th>\n",
       "      <th>X384</th>\n",
       "      <th>X385</th>\n",
       "    </tr>\n",
       "  </thead>\n",
       "  <tbody>\n",
       "    <tr>\n",
       "      <th>0</th>\n",
       "      <td>0</td>\n",
       "      <td>130.81</td>\n",
       "      <td>k</td>\n",
       "      <td>v</td>\n",
       "      <td>at</td>\n",
       "      <td>a</td>\n",
       "      <td>d</td>\n",
       "      <td>u</td>\n",
       "      <td>j</td>\n",
       "      <td>o</td>\n",
       "      <td>...</td>\n",
       "      <td>0</td>\n",
       "      <td>0</td>\n",
       "      <td>1</td>\n",
       "      <td>0</td>\n",
       "      <td>0</td>\n",
       "      <td>0</td>\n",
       "      <td>0</td>\n",
       "      <td>0</td>\n",
       "      <td>0</td>\n",
       "      <td>0</td>\n",
       "    </tr>\n",
       "    <tr>\n",
       "      <th>1</th>\n",
       "      <td>6</td>\n",
       "      <td>88.53</td>\n",
       "      <td>k</td>\n",
       "      <td>t</td>\n",
       "      <td>av</td>\n",
       "      <td>e</td>\n",
       "      <td>d</td>\n",
       "      <td>y</td>\n",
       "      <td>l</td>\n",
       "      <td>o</td>\n",
       "      <td>...</td>\n",
       "      <td>1</td>\n",
       "      <td>0</td>\n",
       "      <td>0</td>\n",
       "      <td>0</td>\n",
       "      <td>0</td>\n",
       "      <td>0</td>\n",
       "      <td>0</td>\n",
       "      <td>0</td>\n",
       "      <td>0</td>\n",
       "      <td>0</td>\n",
       "    </tr>\n",
       "    <tr>\n",
       "      <th>2</th>\n",
       "      <td>7</td>\n",
       "      <td>76.26</td>\n",
       "      <td>az</td>\n",
       "      <td>w</td>\n",
       "      <td>n</td>\n",
       "      <td>c</td>\n",
       "      <td>d</td>\n",
       "      <td>x</td>\n",
       "      <td>j</td>\n",
       "      <td>x</td>\n",
       "      <td>...</td>\n",
       "      <td>0</td>\n",
       "      <td>0</td>\n",
       "      <td>0</td>\n",
       "      <td>0</td>\n",
       "      <td>0</td>\n",
       "      <td>0</td>\n",
       "      <td>1</td>\n",
       "      <td>0</td>\n",
       "      <td>0</td>\n",
       "      <td>0</td>\n",
       "    </tr>\n",
       "    <tr>\n",
       "      <th>3</th>\n",
       "      <td>9</td>\n",
       "      <td>80.62</td>\n",
       "      <td>az</td>\n",
       "      <td>t</td>\n",
       "      <td>n</td>\n",
       "      <td>f</td>\n",
       "      <td>d</td>\n",
       "      <td>x</td>\n",
       "      <td>l</td>\n",
       "      <td>e</td>\n",
       "      <td>...</td>\n",
       "      <td>0</td>\n",
       "      <td>0</td>\n",
       "      <td>0</td>\n",
       "      <td>0</td>\n",
       "      <td>0</td>\n",
       "      <td>0</td>\n",
       "      <td>0</td>\n",
       "      <td>0</td>\n",
       "      <td>0</td>\n",
       "      <td>0</td>\n",
       "    </tr>\n",
       "    <tr>\n",
       "      <th>4</th>\n",
       "      <td>13</td>\n",
       "      <td>78.02</td>\n",
       "      <td>az</td>\n",
       "      <td>v</td>\n",
       "      <td>n</td>\n",
       "      <td>f</td>\n",
       "      <td>d</td>\n",
       "      <td>h</td>\n",
       "      <td>d</td>\n",
       "      <td>n</td>\n",
       "      <td>...</td>\n",
       "      <td>0</td>\n",
       "      <td>0</td>\n",
       "      <td>0</td>\n",
       "      <td>0</td>\n",
       "      <td>0</td>\n",
       "      <td>0</td>\n",
       "      <td>0</td>\n",
       "      <td>0</td>\n",
       "      <td>0</td>\n",
       "      <td>0</td>\n",
       "    </tr>\n",
       "    <tr>\n",
       "      <th>5</th>\n",
       "      <td>18</td>\n",
       "      <td>92.93</td>\n",
       "      <td>t</td>\n",
       "      <td>b</td>\n",
       "      <td>e</td>\n",
       "      <td>c</td>\n",
       "      <td>d</td>\n",
       "      <td>g</td>\n",
       "      <td>h</td>\n",
       "      <td>s</td>\n",
       "      <td>...</td>\n",
       "      <td>0</td>\n",
       "      <td>0</td>\n",
       "      <td>1</td>\n",
       "      <td>0</td>\n",
       "      <td>0</td>\n",
       "      <td>0</td>\n",
       "      <td>0</td>\n",
       "      <td>0</td>\n",
       "      <td>0</td>\n",
       "      <td>0</td>\n",
       "    </tr>\n",
       "    <tr>\n",
       "      <th>6</th>\n",
       "      <td>24</td>\n",
       "      <td>128.76</td>\n",
       "      <td>al</td>\n",
       "      <td>r</td>\n",
       "      <td>e</td>\n",
       "      <td>f</td>\n",
       "      <td>d</td>\n",
       "      <td>f</td>\n",
       "      <td>h</td>\n",
       "      <td>s</td>\n",
       "      <td>...</td>\n",
       "      <td>0</td>\n",
       "      <td>0</td>\n",
       "      <td>0</td>\n",
       "      <td>0</td>\n",
       "      <td>0</td>\n",
       "      <td>0</td>\n",
       "      <td>0</td>\n",
       "      <td>0</td>\n",
       "      <td>0</td>\n",
       "      <td>0</td>\n",
       "    </tr>\n",
       "    <tr>\n",
       "      <th>7</th>\n",
       "      <td>25</td>\n",
       "      <td>91.91</td>\n",
       "      <td>o</td>\n",
       "      <td>l</td>\n",
       "      <td>as</td>\n",
       "      <td>f</td>\n",
       "      <td>d</td>\n",
       "      <td>f</td>\n",
       "      <td>j</td>\n",
       "      <td>a</td>\n",
       "      <td>...</td>\n",
       "      <td>0</td>\n",
       "      <td>0</td>\n",
       "      <td>0</td>\n",
       "      <td>0</td>\n",
       "      <td>0</td>\n",
       "      <td>0</td>\n",
       "      <td>0</td>\n",
       "      <td>0</td>\n",
       "      <td>0</td>\n",
       "      <td>0</td>\n",
       "    </tr>\n",
       "    <tr>\n",
       "      <th>8</th>\n",
       "      <td>27</td>\n",
       "      <td>108.67</td>\n",
       "      <td>w</td>\n",
       "      <td>s</td>\n",
       "      <td>as</td>\n",
       "      <td>e</td>\n",
       "      <td>d</td>\n",
       "      <td>f</td>\n",
       "      <td>i</td>\n",
       "      <td>h</td>\n",
       "      <td>...</td>\n",
       "      <td>1</td>\n",
       "      <td>0</td>\n",
       "      <td>0</td>\n",
       "      <td>0</td>\n",
       "      <td>0</td>\n",
       "      <td>0</td>\n",
       "      <td>0</td>\n",
       "      <td>0</td>\n",
       "      <td>0</td>\n",
       "      <td>0</td>\n",
       "    </tr>\n",
       "    <tr>\n",
       "      <th>9</th>\n",
       "      <td>30</td>\n",
       "      <td>126.99</td>\n",
       "      <td>j</td>\n",
       "      <td>b</td>\n",
       "      <td>aq</td>\n",
       "      <td>c</td>\n",
       "      <td>d</td>\n",
       "      <td>f</td>\n",
       "      <td>a</td>\n",
       "      <td>e</td>\n",
       "      <td>...</td>\n",
       "      <td>0</td>\n",
       "      <td>0</td>\n",
       "      <td>1</td>\n",
       "      <td>0</td>\n",
       "      <td>0</td>\n",
       "      <td>0</td>\n",
       "      <td>0</td>\n",
       "      <td>0</td>\n",
       "      <td>0</td>\n",
       "      <td>0</td>\n",
       "    </tr>\n",
       "  </tbody>\n",
       "</table>\n",
       "<p>10 rows × 378 columns</p>\n",
       "</div>"
      ],
      "text/plain": [
       "   ID       y  X0 X1  X2 X3 X4 X5 X6 X8  ...   X375  X376  X377  X378  X379  \\\n",
       "0   0  130.81   k  v  at  a  d  u  j  o  ...      0     0     1     0     0   \n",
       "1   6   88.53   k  t  av  e  d  y  l  o  ...      1     0     0     0     0   \n",
       "2   7   76.26  az  w   n  c  d  x  j  x  ...      0     0     0     0     0   \n",
       "3   9   80.62  az  t   n  f  d  x  l  e  ...      0     0     0     0     0   \n",
       "4  13   78.02  az  v   n  f  d  h  d  n  ...      0     0     0     0     0   \n",
       "5  18   92.93   t  b   e  c  d  g  h  s  ...      0     0     1     0     0   \n",
       "6  24  128.76  al  r   e  f  d  f  h  s  ...      0     0     0     0     0   \n",
       "7  25   91.91   o  l  as  f  d  f  j  a  ...      0     0     0     0     0   \n",
       "8  27  108.67   w  s  as  e  d  f  i  h  ...      1     0     0     0     0   \n",
       "9  30  126.99   j  b  aq  c  d  f  a  e  ...      0     0     1     0     0   \n",
       "\n",
       "   X380  X382  X383  X384  X385  \n",
       "0     0     0     0     0     0  \n",
       "1     0     0     0     0     0  \n",
       "2     0     1     0     0     0  \n",
       "3     0     0     0     0     0  \n",
       "4     0     0     0     0     0  \n",
       "5     0     0     0     0     0  \n",
       "6     0     0     0     0     0  \n",
       "7     0     0     0     0     0  \n",
       "8     0     0     0     0     0  \n",
       "9     0     0     0     0     0  \n",
       "\n",
       "[10 rows x 378 columns]"
      ]
     },
     "execution_count": 75,
     "metadata": {},
     "output_type": "execute_result"
    },
    {
     "data": {
      "text/plain": [
       "((4209, 378), (4209, 377))"
      ]
     },
     "execution_count": 75,
     "metadata": {},
     "output_type": "execute_result"
    },
    {
     "name": "stdout",
     "output_type": "stream",
     "text": [
      "<class 'pandas.core.frame.DataFrame'>\n",
      "RangeIndex: 4209 entries, 0 to 4208\n",
      "Columns: 378 entries, ID to X385\n",
      "dtypes: float64(1), int64(369), object(8)\n",
      "memory usage: 12.1+ MB\n"
     ]
    }
   ],
   "source": [
    "train.head(10)\n",
    "train.shape, test.shape\n",
    "train.info()"
   ]
  },
  {
   "cell_type": "markdown",
   "metadata": {},
   "source": [
    "Okay, so there are 4209 values in train and test. There are 378 columns including the target variable out of which 8 are object type, 1 is float(target variable 'y') and rest are integer. The integer features except the target variable are binary in nature taking only 2 values : 0 and 1. "
   ]
  },
  {
   "cell_type": "code",
   "execution_count": 6,
   "metadata": {
    "ExecuteTime": {
     "end_time": "2018-01-22T18:57:30.555926Z",
     "start_time": "2018-01-22T18:57:30.388015Z"
    }
   },
   "outputs": [],
   "source": [
    "cat_feat = train.select_dtypes(include=['object']).columns\n",
    "num_feat = train.select_dtypes(include=['int64', 'float64']).columns"
   ]
  },
  {
   "cell_type": "markdown",
   "metadata": {},
   "source": [
    "cat_feat has all categorical features, while num_feat has all numerical features."
   ]
  },
  {
   "cell_type": "code",
   "execution_count": 77,
   "metadata": {},
   "outputs": [
    {
     "data": {
      "text/plain": [
       "0"
      ]
     },
     "execution_count": 77,
     "metadata": {},
     "output_type": "execute_result"
    }
   ],
   "source": [
    "train.isnull().sum().sum()"
   ]
  },
  {
   "cell_type": "markdown",
   "metadata": {},
   "source": [
    "Also we can see that there are no null values. \n",
    "\n",
    "Let's first see how are target variable is distributed. "
   ]
  },
  {
   "cell_type": "code",
   "execution_count": 164,
   "metadata": {},
   "outputs": [
    {
     "data": {
      "text/plain": [
       "<matplotlib.axes._subplots.AxesSubplot at 0x7f6cbdbb14e0>"
      ]
     },
     "execution_count": 164,
     "metadata": {},
     "output_type": "execute_result"
    },
    {
     "data": {
      "text/plain": [
       "<matplotlib.axes._subplots.AxesSubplot at 0x7f6cbdb62a58>"
      ]
     },
     "execution_count": 164,
     "metadata": {},
     "output_type": "execute_result"
    },
    {
     "data": {
      "image/png": "[encoded data removed]",
      "text/plain": [
       "<matplotlib.figure.Figure at 0x7f6cbdc65cc0>"
      ]
     },
     "metadata": {},
     "output_type": "display_data"
    }
   ],
   "source": [
    "_,ax = plt.subplots(ncols=2, figsize=(16,8))\n",
    "sns.set_style('darkgrid')\n",
    "sns.distplot(train['y'], ax=ax[0])\n",
    "sns.distplot(np.log(train['y']), ax=ax[1])"
   ]
  },
  {
   "cell_type": "code",
   "execution_count": 9,
   "metadata": {
    "collapsed": true
   },
   "outputs": [
    {
     "data": {
      "text/plain": [
       "count    4209.000000\n",
       "mean      100.669318\n",
       "std        12.679381\n",
       "min        72.110000\n",
       "25%        90.820000\n",
       "50%        99.150000\n",
       "75%       109.010000\n",
       "max       265.320000\n",
       "Name: y, dtype: float64"
      ]
     },
     "execution_count": 9,
     "metadata": {},
     "output_type": "execute_result"
    }
   ],
   "source": [
    "train['y'].describe()"
   ]
  },
  {
   "cell_type": "markdown",
   "metadata": {},
   "source": [
    "So the target variable 'y'(time in seconds a car took to pass testing) caries from 72.11 to 265.32 with a mean of 100.67 and standard deviation of 12.68 . Also the first plot shows that it is positively skewed and has high kurtosis. \n",
    "Since most of the statistical tests require the variable to be normally distributed, lets use log transformation on 'y' to bring it closer to normal. "
   ]
  },
  {
   "cell_type": "code",
   "execution_count": 7,
   "metadata": {
    "ExecuteTime": {
     "end_time": "2018-01-22T18:57:43.078114Z",
     "start_time": "2018-01-22T18:57:42.083135Z"
    }
   },
   "outputs": [
    {
     "name": "stdout",
     "output_type": "stream",
     "text": [
      "Before Transformation : \n",
      "Skewness : 1.2060958289669412\n",
      "Kurtosis : 7.899893252938124\n",
      "\n",
      "After Transformation : \n",
      "Skewness : 0.38984118039470267\n",
      "Kurtosis : 1.3065600357272684\n"
     ]
    },
    {
     "data": {
      "image/png": "[encoded data removed]",
      "text/plain": [
       "<matplotlib.figure.Figure at 0x7f19c8387080>"
      ]
     },
     "metadata": {},
     "output_type": "display_data"
    }
   ],
   "source": [
    "print (\"Before Transformation : \")\n",
    "print (\"Skewness : {0}\".format(stats.skew((train['y']))))\n",
    "print (\"Kurtosis : {0}\".format(stats.kurtosis(train['y'])))\n",
    "\n",
    "train['logy'] = np.log(train['y'])\n",
    "\n",
    "print (\"\\nAfter Transformation : \")\n",
    "print (\"Skewness : {0}\".format(stats.skew((train['logy']))))\n",
    "print (\"Kurtosis : {0}\".format(stats.kurtosis(train['logy'])))\n",
    "\n",
    "_, ax = plt.subplots()\n",
    "prob = stats.probplot(train['logy'], plot=ax)"
   ]
  },
  {
   "cell_type": "markdown",
   "metadata": {},
   "source": [
    "After transformation we see that the skewness and kurtosis are within acceptable range ie between +2 to -2. \n",
    "\n",
    "Now we will analyse our categorical variables.\n",
    "\n",
    "## Categorical Varibles"
   ]
  },
  {
   "cell_type": "code",
   "execution_count": 11,
   "metadata": {
    "scrolled": true
   },
   "outputs": [
    {
     "data": {
      "text/html": [
       "<div>\n",
       "<style>\n",
       "    .dataframe thead tr:only-child th {\n",
       "        text-align: right;\n",
       "    }\n",
       "\n",
       "    .dataframe thead th {\n",
       "        text-align: left;\n",
       "    }\n",
       "\n",
       "    .dataframe tbody tr th {\n",
       "        vertical-align: top;\n",
       "    }\n",
       "</style>\n",
       "<table border=\"1\" class=\"dataframe\">\n",
       "  <thead>\n",
       "    <tr style=\"text-align: right;\">\n",
       "      <th></th>\n",
       "      <th>X0</th>\n",
       "      <th>X1</th>\n",
       "      <th>X2</th>\n",
       "      <th>X3</th>\n",
       "      <th>X4</th>\n",
       "      <th>X5</th>\n",
       "      <th>X6</th>\n",
       "      <th>X8</th>\n",
       "    </tr>\n",
       "  </thead>\n",
       "  <tbody>\n",
       "    <tr>\n",
       "      <th>count</th>\n",
       "      <td>4209</td>\n",
       "      <td>4209</td>\n",
       "      <td>4209</td>\n",
       "      <td>4209</td>\n",
       "      <td>4209</td>\n",
       "      <td>4209</td>\n",
       "      <td>4209</td>\n",
       "      <td>4209</td>\n",
       "    </tr>\n",
       "    <tr>\n",
       "      <th>unique</th>\n",
       "      <td>47</td>\n",
       "      <td>27</td>\n",
       "      <td>44</td>\n",
       "      <td>7</td>\n",
       "      <td>4</td>\n",
       "      <td>29</td>\n",
       "      <td>12</td>\n",
       "      <td>25</td>\n",
       "    </tr>\n",
       "    <tr>\n",
       "      <th>top</th>\n",
       "      <td>z</td>\n",
       "      <td>aa</td>\n",
       "      <td>as</td>\n",
       "      <td>c</td>\n",
       "      <td>d</td>\n",
       "      <td>v</td>\n",
       "      <td>g</td>\n",
       "      <td>j</td>\n",
       "    </tr>\n",
       "    <tr>\n",
       "      <th>freq</th>\n",
       "      <td>360</td>\n",
       "      <td>833</td>\n",
       "      <td>1659</td>\n",
       "      <td>1942</td>\n",
       "      <td>4205</td>\n",
       "      <td>231</td>\n",
       "      <td>1042</td>\n",
       "      <td>277</td>\n",
       "    </tr>\n",
       "  </tbody>\n",
       "</table>\n",
       "</div>"
      ],
      "text/plain": [
       "          X0    X1    X2    X3    X4    X5    X6    X8\n",
       "count   4209  4209  4209  4209  4209  4209  4209  4209\n",
       "unique    47    27    44     7     4    29    12    25\n",
       "top        z    aa    as     c     d     v     g     j\n",
       "freq     360   833  1659  1942  4205   231  1042   277"
      ]
     },
     "execution_count": 11,
     "metadata": {},
     "output_type": "execute_result"
    }
   ],
   "source": [
    "train[cat_feat].describe()"
   ]
  },
  {
   "cell_type": "markdown",
   "metadata": {},
   "source": [
    "Lets individually check X3, X4 as they have relatively few levels. \n",
    "#### X3"
   ]
  },
  {
   "cell_type": "code",
   "execution_count": 12,
   "metadata": {
    "collapsed": true
   },
   "outputs": [
    {
     "data": {
      "text/plain": [
       "c    1942\n",
       "f    1076\n",
       "a     440\n",
       "d     290\n",
       "g     241\n",
       "e     163\n",
       "b      57\n",
       "Name: X3, dtype: int64"
      ]
     },
     "execution_count": 12,
     "metadata": {},
     "output_type": "execute_result"
    },
    {
     "data": {
      "text/plain": [
       "0     a\n",
       "1     e\n",
       "2     c\n",
       "3     f\n",
       "4     f\n",
       "5     c\n",
       "6     f\n",
       "7     f\n",
       "8     e\n",
       "9     c\n",
       "10    f\n",
       "11    f\n",
       "12    c\n",
       "13    f\n",
       "14    e\n",
       "15    f\n",
       "16    f\n",
       "17    c\n",
       "18    c\n",
       "19    f\n",
       "Name: X3, dtype: object"
      ]
     },
     "execution_count": 12,
     "metadata": {},
     "output_type": "execute_result"
    }
   ],
   "source": [
    "train['X3'].value_counts()\n",
    "train['X3'].head(20)"
   ]
  },
  {
   "cell_type": "code",
   "execution_count": 13,
   "metadata": {
    "collapsed": true
   },
   "outputs": [
    {
     "data": {
      "text/plain": [
       "<matplotlib.axes._subplots.AxesSubplot at 0x7f6cedb3a7f0>"
      ]
     },
     "execution_count": 13,
     "metadata": {},
     "output_type": "execute_result"
    },
    {
     "data": {
      "text/plain": [
       "<matplotlib.axes._subplots.AxesSubplot at 0x7f6cbf9202e8>"
      ]
     },
     "execution_count": 13,
     "metadata": {},
     "output_type": "execute_result"
    },
    {
     "data": {
      "image/png": "[encoded data removed]",
      "text/plain": [
       "<matplotlib.figure.Figure at 0x7f6cbf9c2d68>"
      ]
     },
     "metadata": {},
     "output_type": "display_data"
    }
   ],
   "source": [
    "_, ax = plt.subplots(figsize=(16,8), ncols=2)\n",
    "sns.violinplot(x='X3', y='y', data=train, cut=0, inner='quartile', ax=ax[0], scale='width')\n",
    "sns.boxplot(x='X3', y='y', data=train, ax=ax[1])"
   ]
  },
  {
   "cell_type": "code",
   "execution_count": 15,
   "metadata": {
    "collapsed": true
   },
   "outputs": [
    {
     "data": {
      "image/png": "[encoded data removed]",
      "text/plain": [
       "<matplotlib.figure.Figure at 0x7f6cbf99e898>"
      ]
     },
     "metadata": {},
     "output_type": "display_data"
    }
   ],
   "source": [
    "g = sns.FacetGrid(train, col_wrap=3, size=4, aspect=1, col='X3')\n",
    "g = g.map(plt.hist, 'y')"
   ]
  },
  {
   "cell_type": "markdown",
   "metadata": {},
   "source": [
    "Above 2 plots show quite a contrast in our target feature 'y' amongst various levels of X3. Target feature 'y' has a distinguishably different mean and distributions for levels c, f, d, b. So this feature X3 seems important but lets try to quantify our findings by runnings an ANOVA and see whether these changes in y are by chance or X3 is statiscally important. "
   ]
  },
  {
   "cell_type": "code",
   "execution_count": 16,
   "metadata": {
    "code_folding": [
     0
    ],
    "scrolled": true
   },
   "outputs": [
    {
     "name": "stdout",
     "output_type": "stream",
     "text": [
      "F Statistic : [ 37.54337884]\n",
      "p value : [  1.30814734e-44]\n"
     ]
    }
   ],
   "source": [
    "def anova(cat, num):\n",
    "    samples = []\n",
    "    for level in train[cat].unique():\n",
    "        values = train.loc[train[cat]==level, [num]].values\n",
    "        samples.append(values)\n",
    "    f_stat, p_val = stats.f_oneway(*samples)\n",
    "    print (\"F Statistic : {0}\".format(f_stat))\n",
    "    print (\"p value : {0}\".format(p_val))\n",
    "\n",
    "anova('X3', 'logy')"
   ]
  },
  {
   "cell_type": "markdown",
   "metadata": {},
   "source": [
    "With a high F-statistic and low p-value we can say that the differences in mean in target feature y/logy aren't by chance but due to X3. But to find out whether all levels make a significant difference we need to one-hot encode our variables and then conduct a t-test and find a p-value for each dummy variable. \n",
    "Let's try a similar analysis for X4 and X6\n",
    "\n",
    "### X4\n"
   ]
  },
  {
   "cell_type": "code",
   "execution_count": 17,
   "metadata": {
    "collapsed": true
   },
   "outputs": [
    {
     "data": {
      "image/png": "[encoded data removed]",
      "text/plain": [
       "<matplotlib.figure.Figure at 0x7f6cee3d1ac8>"
      ]
     },
     "metadata": {},
     "output_type": "display_data"
    }
   ],
   "source": [
    "g = sns.FacetGrid(col='X4', data=train, col_wrap=4, size=4, aspect=1)\n",
    "g = g.map(plt.hist, 'y')\n"
   ]
  },
  {
   "cell_type": "code",
   "execution_count": 18,
   "metadata": {},
   "outputs": [
    {
     "data": {
      "text/plain": [
       "d    4205\n",
       "a       2\n",
       "c       1\n",
       "b       1\n",
       "Name: X4, dtype: int64"
      ]
     },
     "execution_count": 18,
     "metadata": {},
     "output_type": "execute_result"
    }
   ],
   "source": [
    "train['X4'].value_counts()"
   ]
  },
  {
   "cell_type": "markdown",
   "metadata": {},
   "source": [
    "As we see most of the values in X4 belong to level 'd' and thus this feature could be dropped for being a near zero variance predictor. \n",
    "\n",
    "### X6"
   ]
  },
  {
   "cell_type": "code",
   "execution_count": 19,
   "metadata": {
    "collapsed": true
   },
   "outputs": [
    {
     "data": {
      "text/plain": [
       "g    1042\n",
       "j    1039\n",
       "d     625\n",
       "i     488\n",
       "l     478\n",
       "a     206\n",
       "h     190\n",
       "k      43\n",
       "c      38\n",
       "b      28\n",
       "f      20\n",
       "e      12\n",
       "Name: X6, dtype: int64"
      ]
     },
     "execution_count": 19,
     "metadata": {},
     "output_type": "execute_result"
    }
   ],
   "source": [
    "train['X6'].value_counts()"
   ]
  },
  {
   "cell_type": "code",
   "execution_count": 20,
   "metadata": {
    "collapsed": true
   },
   "outputs": [
    {
     "data": {
      "text/plain": [
       "<seaborn.axisgrid.FacetGrid at 0x7f6cbf45f438>"
      ]
     },
     "execution_count": 20,
     "metadata": {},
     "output_type": "execute_result"
    },
    {
     "data": {
      "image/png": "[encoded data removed]",
      "text/plain": [
       "<matplotlib.figure.Figure at 0x7f6cbf9e42b0>"
      ]
     },
     "metadata": {},
     "output_type": "display_data"
    }
   ],
   "source": [
    "g = sns.FacetGrid(data=train, col='X6', size=4, aspect=1, col_wrap=4)\n",
    "g.map(plt.hist, 'y')"
   ]
  },
  {
   "cell_type": "code",
   "execution_count": 21,
   "metadata": {
    "collapsed": true
   },
   "outputs": [
    {
     "data": {
      "text/plain": [
       "<matplotlib.axes._subplots.AxesSubplot at 0x7f6cbf3425c0>"
      ]
     },
     "execution_count": 21,
     "metadata": {},
     "output_type": "execute_result"
    },
    {
     "data": {
      "text/plain": [
       "<matplotlib.axes._subplots.AxesSubplot at 0x7f6cbf2467f0>"
      ]
     },
     "execution_count": 21,
     "metadata": {},
     "output_type": "execute_result"
    },
    {
     "data": {
      "image/png": "[encoded data removed]",
      "text/plain": [
       "<matplotlib.figure.Figure at 0x7f6cbf388828>"
      ]
     },
     "metadata": {},
     "output_type": "display_data"
    }
   ],
   "source": [
    "_, ax = plt.subplots(figsize=(16,8), ncols=2)\n",
    "sns.violinplot(x='X6', y='y', data=train, ax=ax[0], cut=0, inner='quartile')\n",
    "sns.boxplot(x='X6', y='y', data=train, ax=ax[1])"
   ]
  },
  {
   "cell_type": "markdown",
   "metadata": {},
   "source": [
    "The plots show that the categories make a difference in the target feature. Let's verify this statistically. "
   ]
  },
  {
   "cell_type": "code",
   "execution_count": 22,
   "metadata": {},
   "outputs": [
    {
     "name": "stdout",
     "output_type": "stream",
     "text": [
      "F Statistic : [ 4.53130894]\n",
      "p value : [  7.37401319e-07]\n"
     ]
    }
   ],
   "source": [
    "anova('X6', 'logy')"
   ]
  },
  {
   "cell_type": "markdown",
   "metadata": {},
   "source": [
    "Yup, X6 is also statiscally significant. So lets check p-value for each of the categorical features. "
   ]
  },
  {
   "cell_type": "code",
   "execution_count": 23,
   "metadata": {
    "collapsed": true
   },
   "outputs": [
    {
     "name": "stdout",
     "output_type": "stream",
     "text": [
      "\n",
      "X0\n",
      "F Statistic : [ 156.42331616]\n",
      "p value : [ 0.]\n",
      "\n",
      "X1\n",
      "F Statistic : [ 8.25031423]\n",
      "p value : [  1.16538378e-30]\n",
      "\n",
      "X2\n",
      "F Statistic : [ 33.01281197]\n",
      "p value : [  3.94362277e-229]\n",
      "\n",
      "X3\n",
      "F Statistic : [ 37.54337884]\n",
      "p value : [  1.30814734e-44]\n",
      "\n",
      "X4\n",
      "F Statistic : [ 2.28399826]\n",
      "p value : [ 0.07692973]\n",
      "\n",
      "X5\n",
      "F Statistic : [ 2.13206919]\n",
      "p value : [ 0.00047722]\n",
      "\n",
      "X6\n",
      "F Statistic : [ 4.53130894]\n",
      "p value : [  7.37401319e-07]\n",
      "\n",
      "X8\n",
      "F Statistic : [ 5.60662972]\n",
      "p value : [  4.84094033e-17]\n"
     ]
    }
   ],
   "source": [
    "for feat in cat_feat:\n",
    "    print ('\\n'+feat)\n",
    "    anova(feat, 'logy')"
   ]
  },
  {
   "cell_type": "markdown",
   "metadata": {},
   "source": [
    "The features are statistically significant except for X4. And as we saw X4 is a near 0 variance predictorand so it is better to not include it in modelling. \n",
    "\n",
    "Let's now analyse our binary features. \n",
    "## Binary features"
   ]
  },
  {
   "cell_type": "code",
   "execution_count": 8,
   "metadata": {
    "ExecuteTime": {
     "end_time": "2018-01-22T19:00:58.196691Z",
     "start_time": "2018-01-22T19:00:54.702159Z"
    }
   },
   "outputs": [
    {
     "data": {
      "text/plain": [
       "56"
      ]
     },
     "execution_count": 8,
     "metadata": {},
     "output_type": "execute_result"
    }
   ],
   "source": [
    "train1 = train.T.drop_duplicates().T\n",
    "rem_feat = [f for f in list(train.columns) if f not in list(train1.columns)]\n",
    "len(rem_feat)\n",
    "\n",
    "# The above operation changes the data type of numeric features to 'object' so let's change them back. \n",
    "train1['y'] = pd.to_numeric(train1['y'])\n",
    "train1['ID'] = pd.to_numeric(train['ID'])\n",
    "train1['logy'] = pd.to_numeric(train['logy'])"
   ]
  },
  {
   "cell_type": "markdown",
   "metadata": {},
   "source": [
    "This removes 56 duplicate features from train dataframe. `rem_feat` contains features that were removed. Let's also remove them from `test`. "
   ]
  },
  {
   "cell_type": "code",
   "execution_count": 9,
   "metadata": {
    "ExecuteTime": {
     "end_time": "2018-01-22T19:01:17.563220Z",
     "start_time": "2018-01-22T19:01:17.537284Z"
    }
   },
   "outputs": [],
   "source": [
    "test1 = test.drop(rem_feat, axis=1)"
   ]
  },
  {
   "cell_type": "code",
   "execution_count": 10,
   "metadata": {
    "ExecuteTime": {
     "end_time": "2018-01-22T19:01:30.812701Z",
     "start_time": "2018-01-22T19:01:28.661998Z"
    },
    "scrolled": true
   },
   "outputs": [
    {
     "data": {
      "text/html": [
       "<div>\n",
       "<style>\n",
       "    .dataframe thead tr:only-child th {\n",
       "        text-align: right;\n",
       "    }\n",
       "\n",
       "    .dataframe thead th {\n",
       "        text-align: left;\n",
       "    }\n",
       "\n",
       "    .dataframe tbody tr th {\n",
       "        vertical-align: top;\n",
       "    }\n",
       "</style>\n",
       "<table border=\"1\" class=\"dataframe\">\n",
       "  <thead>\n",
       "    <tr style=\"text-align: right;\">\n",
       "      <th></th>\n",
       "      <th>feature</th>\n",
       "      <th>variance</th>\n",
       "    </tr>\n",
       "  </thead>\n",
       "  <tbody>\n",
       "    <tr>\n",
       "      <th>137</th>\n",
       "      <td>X11</td>\n",
       "      <td>0</td>\n",
       "    </tr>\n",
       "    <tr>\n",
       "      <th>293</th>\n",
       "      <td>X207</td>\n",
       "      <td>0.000237586</td>\n",
       "    </tr>\n",
       "    <tr>\n",
       "      <th>256</th>\n",
       "      <td>X257</td>\n",
       "      <td>0.000237586</td>\n",
       "    </tr>\n",
       "    <tr>\n",
       "      <th>277</th>\n",
       "      <td>X259</td>\n",
       "      <td>0.000237586</td>\n",
       "    </tr>\n",
       "    <tr>\n",
       "      <th>107</th>\n",
       "      <td>X33</td>\n",
       "      <td>0.000237586</td>\n",
       "    </tr>\n",
       "    <tr>\n",
       "      <th>63</th>\n",
       "      <td>X210</td>\n",
       "      <td>0.000237586</td>\n",
       "    </tr>\n",
       "    <tr>\n",
       "      <th>91</th>\n",
       "      <td>X339</td>\n",
       "      <td>0.000237586</td>\n",
       "    </tr>\n",
       "    <tr>\n",
       "      <th>235</th>\n",
       "      <td>X95</td>\n",
       "      <td>0.000237586</td>\n",
       "    </tr>\n",
       "    <tr>\n",
       "      <th>8</th>\n",
       "      <td>X190</td>\n",
       "      <td>0.000237586</td>\n",
       "    </tr>\n",
       "    <tr>\n",
       "      <th>149</th>\n",
       "      <td>X280</td>\n",
       "      <td>0.000237586</td>\n",
       "    </tr>\n",
       "    <tr>\n",
       "      <th>193</th>\n",
       "      <td>X260</td>\n",
       "      <td>0.000237586</td>\n",
       "    </tr>\n",
       "    <tr>\n",
       "      <th>254</th>\n",
       "      <td>X42</td>\n",
       "      <td>0.000237586</td>\n",
       "    </tr>\n",
       "    <tr>\n",
       "      <th>141</th>\n",
       "      <td>X288</td>\n",
       "      <td>0.000237586</td>\n",
       "    </tr>\n",
       "    <tr>\n",
       "      <th>97</th>\n",
       "      <td>X270</td>\n",
       "      <td>0.000237586</td>\n",
       "    </tr>\n",
       "    <tr>\n",
       "      <th>89</th>\n",
       "      <td>X204</td>\n",
       "      <td>0.000237586</td>\n",
       "    </tr>\n",
       "    <tr>\n",
       "      <th>173</th>\n",
       "      <td>X295</td>\n",
       "      <td>0.000237586</td>\n",
       "    </tr>\n",
       "    <tr>\n",
       "      <th>70</th>\n",
       "      <td>X205</td>\n",
       "      <td>0.000237586</td>\n",
       "    </tr>\n",
       "    <tr>\n",
       "      <th>263</th>\n",
       "      <td>X319</td>\n",
       "      <td>0.000475059</td>\n",
       "    </tr>\n",
       "    <tr>\n",
       "      <th>143</th>\n",
       "      <td>X369</td>\n",
       "      <td>0.000475059</td>\n",
       "    </tr>\n",
       "    <tr>\n",
       "      <th>94</th>\n",
       "      <td>X124</td>\n",
       "      <td>0.000475059</td>\n",
       "    </tr>\n",
       "    <tr>\n",
       "      <th>147</th>\n",
       "      <td>X15</td>\n",
       "      <td>0.000475059</td>\n",
       "    </tr>\n",
       "    <tr>\n",
       "      <th>35</th>\n",
       "      <td>X384</td>\n",
       "      <td>0.000475059</td>\n",
       "    </tr>\n",
       "    <tr>\n",
       "      <th>187</th>\n",
       "      <td>X372</td>\n",
       "      <td>0.000475059</td>\n",
       "    </tr>\n",
       "    <tr>\n",
       "      <th>136</th>\n",
       "      <td>X269</td>\n",
       "      <td>0.000475059</td>\n",
       "    </tr>\n",
       "    <tr>\n",
       "      <th>134</th>\n",
       "      <td>X278</td>\n",
       "      <td>0.000475059</td>\n",
       "    </tr>\n",
       "    <tr>\n",
       "      <th>2</th>\n",
       "      <td>X236</td>\n",
       "      <td>0.000475059</td>\n",
       "    </tr>\n",
       "    <tr>\n",
       "      <th>105</th>\n",
       "      <td>X153</td>\n",
       "      <td>0.00071242</td>\n",
       "    </tr>\n",
       "    <tr>\n",
       "      <th>7</th>\n",
       "      <td>X74</td>\n",
       "      <td>0.00071242</td>\n",
       "    </tr>\n",
       "    <tr>\n",
       "      <th>139</th>\n",
       "      <td>X318</td>\n",
       "      <td>0.00071242</td>\n",
       "    </tr>\n",
       "    <tr>\n",
       "      <th>205</th>\n",
       "      <td>X332</td>\n",
       "      <td>0.00071242</td>\n",
       "    </tr>\n",
       "    <tr>\n",
       "      <th>...</th>\n",
       "      <td>...</td>\n",
       "      <td>...</td>\n",
       "    </tr>\n",
       "    <tr>\n",
       "      <th>38</th>\n",
       "      <td>X171</td>\n",
       "      <td>0.225279</td>\n",
       "    </tr>\n",
       "    <tr>\n",
       "      <th>200</th>\n",
       "      <td>X64</td>\n",
       "      <td>0.234468</td>\n",
       "    </tr>\n",
       "    <tr>\n",
       "      <th>301</th>\n",
       "      <td>X118</td>\n",
       "      <td>0.235114</td>\n",
       "    </tr>\n",
       "    <tr>\n",
       "      <th>98</th>\n",
       "      <td>X355</td>\n",
       "      <td>0.235746</td>\n",
       "    </tr>\n",
       "    <tr>\n",
       "      <th>100</th>\n",
       "      <td>X251</td>\n",
       "      <td>0.238854</td>\n",
       "    </tr>\n",
       "    <tr>\n",
       "      <th>269</th>\n",
       "      <td>X311</td>\n",
       "      <td>0.240359</td>\n",
       "    </tr>\n",
       "    <tr>\n",
       "      <th>207</th>\n",
       "      <td>X46</td>\n",
       "      <td>0.240592</td>\n",
       "    </tr>\n",
       "    <tr>\n",
       "      <th>96</th>\n",
       "      <td>X85</td>\n",
       "      <td>0.241625</td>\n",
       "    </tr>\n",
       "    <tr>\n",
       "      <th>153</th>\n",
       "      <td>X246</td>\n",
       "      <td>0.241842</td>\n",
       "    </tr>\n",
       "    <tr>\n",
       "      <th>123</th>\n",
       "      <td>X137</td>\n",
       "      <td>0.243359</td>\n",
       "    </tr>\n",
       "    <tr>\n",
       "      <th>109</th>\n",
       "      <td>X261</td>\n",
       "      <td>0.24359</td>\n",
       "    </tr>\n",
       "    <tr>\n",
       "      <th>127</th>\n",
       "      <td>X187</td>\n",
       "      <td>0.243742</td>\n",
       "    </tr>\n",
       "    <tr>\n",
       "      <th>22</th>\n",
       "      <td>X58</td>\n",
       "      <td>0.244439</td>\n",
       "    </tr>\n",
       "    <tr>\n",
       "      <th>47</th>\n",
       "      <td>X358</td>\n",
       "      <td>0.244721</td>\n",
       "    </tr>\n",
       "    <tr>\n",
       "      <th>121</th>\n",
       "      <td>X14</td>\n",
       "      <td>0.244893</td>\n",
       "    </tr>\n",
       "    <tr>\n",
       "      <th>183</th>\n",
       "      <td>X314</td>\n",
       "      <td>0.245393</td>\n",
       "    </tr>\n",
       "    <tr>\n",
       "      <th>146</th>\n",
       "      <td>X329</td>\n",
       "      <td>0.245867</td>\n",
       "    </tr>\n",
       "    <tr>\n",
       "      <th>298</th>\n",
       "      <td>X220</td>\n",
       "      <td>0.246316</td>\n",
       "    </tr>\n",
       "    <tr>\n",
       "      <th>135</th>\n",
       "      <td>X178</td>\n",
       "      <td>0.246767</td>\n",
       "    </tr>\n",
       "    <tr>\n",
       "      <th>167</th>\n",
       "      <td>X223</td>\n",
       "      <td>0.247007</td>\n",
       "    </tr>\n",
       "    <tr>\n",
       "      <th>309</th>\n",
       "      <td>X250</td>\n",
       "      <td>0.247264</td>\n",
       "    </tr>\n",
       "    <tr>\n",
       "      <th>28</th>\n",
       "      <td>X334</td>\n",
       "      <td>0.248659</td>\n",
       "    </tr>\n",
       "    <tr>\n",
       "      <th>132</th>\n",
       "      <td>X186</td>\n",
       "      <td>0.248764</td>\n",
       "    </tr>\n",
       "    <tr>\n",
       "      <th>36</th>\n",
       "      <td>X194</td>\n",
       "      <td>0.248764</td>\n",
       "    </tr>\n",
       "    <tr>\n",
       "      <th>184</th>\n",
       "      <td>X191</td>\n",
       "      <td>0.249212</td>\n",
       "    </tr>\n",
       "    <tr>\n",
       "      <th>124</th>\n",
       "      <td>X362</td>\n",
       "      <td>0.249647</td>\n",
       "    </tr>\n",
       "    <tr>\n",
       "      <th>88</th>\n",
       "      <td>X337</td>\n",
       "      <td>0.249787</td>\n",
       "    </tr>\n",
       "    <tr>\n",
       "      <th>232</th>\n",
       "      <td>X127</td>\n",
       "      <td>0.250036</td>\n",
       "    </tr>\n",
       "    <tr>\n",
       "      <th>195</th>\n",
       "      <td>y</td>\n",
       "      <td>160.767</td>\n",
       "    </tr>\n",
       "    <tr>\n",
       "      <th>145</th>\n",
       "      <td>ID</td>\n",
       "      <td>5.94194e+06</td>\n",
       "    </tr>\n",
       "  </tbody>\n",
       "</table>\n",
       "<p>315 rows × 2 columns</p>\n",
       "</div>"
      ],
      "text/plain": [
       "    feature     variance\n",
       "137     X11            0\n",
       "293    X207  0.000237586\n",
       "256    X257  0.000237586\n",
       "277    X259  0.000237586\n",
       "107     X33  0.000237586\n",
       "63     X210  0.000237586\n",
       "91     X339  0.000237586\n",
       "235     X95  0.000237586\n",
       "8      X190  0.000237586\n",
       "149    X280  0.000237586\n",
       "193    X260  0.000237586\n",
       "254     X42  0.000237586\n",
       "141    X288  0.000237586\n",
       "97     X270  0.000237586\n",
       "89     X204  0.000237586\n",
       "173    X295  0.000237586\n",
       "70     X205  0.000237586\n",
       "263    X319  0.000475059\n",
       "143    X369  0.000475059\n",
       "94     X124  0.000475059\n",
       "147     X15  0.000475059\n",
       "35     X384  0.000475059\n",
       "187    X372  0.000475059\n",
       "136    X269  0.000475059\n",
       "134    X278  0.000475059\n",
       "2      X236  0.000475059\n",
       "105    X153   0.00071242\n",
       "7       X74   0.00071242\n",
       "139    X318   0.00071242\n",
       "205    X332   0.00071242\n",
       "..      ...          ...\n",
       "38     X171     0.225279\n",
       "200     X64     0.234468\n",
       "301    X118     0.235114\n",
       "98     X355     0.235746\n",
       "100    X251     0.238854\n",
       "269    X311     0.240359\n",
       "207     X46     0.240592\n",
       "96      X85     0.241625\n",
       "153    X246     0.241842\n",
       "123    X137     0.243359\n",
       "109    X261      0.24359\n",
       "127    X187     0.243742\n",
       "22      X58     0.244439\n",
       "47     X358     0.244721\n",
       "121     X14     0.244893\n",
       "183    X314     0.245393\n",
       "146    X329     0.245867\n",
       "298    X220     0.246316\n",
       "135    X178     0.246767\n",
       "167    X223     0.247007\n",
       "309    X250     0.247264\n",
       "28     X334     0.248659\n",
       "132    X186     0.248764\n",
       "36     X194     0.248764\n",
       "184    X191     0.249212\n",
       "124    X362     0.249647\n",
       "88     X337     0.249787\n",
       "232    X127     0.250036\n",
       "195       y      160.767\n",
       "145      ID  5.94194e+06\n",
       "\n",
       "[315 rows x 2 columns]"
      ]
     },
     "execution_count": 10,
     "metadata": {},
     "output_type": "execute_result"
    }
   ],
   "source": [
    "var_df = pd.DataFrame(columns=['feature', 'variance'])\n",
    "for feat in list(set(train1.columns)-set(cat_feat)) : \n",
    "    var_df.loc[var_df.shape[0],:] = list((feat, train1[feat].var()))\n",
    "var_df = var_df.sort_values(by='variance', axis=0)\n",
    "var_df"
   ]
  },
  {
   "cell_type": "markdown",
   "metadata": {},
   "source": [
    "There is one feature X11 which has 0 variance and many number of features that have near 0 variance. We can comfortably drop X11 but for other near-zero variance features I am not that comfortable to simply drop them without analysing further. So first let's drop X11. "
   ]
  },
  {
   "cell_type": "code",
   "execution_count": 11,
   "metadata": {
    "ExecuteTime": {
     "end_time": "2018-01-22T19:02:03.226948Z",
     "start_time": "2018-01-22T19:02:03.156352Z"
    }
   },
   "outputs": [],
   "source": [
    "train1 = train1.drop('X11', axis=1)\n",
    "test1 = test1.drop('X11', axis=1)"
   ]
  },
  {
   "cell_type": "markdown",
   "metadata": {},
   "source": [
    "Now let's see how is our train-test data split. "
   ]
  },
  {
   "cell_type": "code",
   "execution_count": 206,
   "metadata": {},
   "outputs": [
    {
     "data": {
      "image/png": "[encoded data removed]",
      "text/plain": [
       "<matplotlib.figure.Figure at 0x7f6cbdf19f60>"
      ]
     },
     "metadata": {},
     "output_type": "display_data"
    }
   ],
   "source": [
    "_, ax = plt.subplots(figsize=(16,8), ncols=2)\n",
    "ax0=sns.regplot(train1.index.values, train1.ID, ax=ax[0], fit_reg=False, label='train')\n",
    "ax1=sns.regplot(test.index.values, test.ID, ax=ax[1], fit_reg=False, label='test')\n",
    "_=ax1.set_xlabel('Index')\n",
    "_=ax0.set_xlabel('Index')\n"
   ]
  },
  {
   "cell_type": "code",
   "execution_count": 14,
   "metadata": {
    "ExecuteTime": {
     "end_time": "2018-01-22T19:04:56.795981Z",
     "start_time": "2018-01-22T19:04:55.071140Z"
    }
   },
   "outputs": [
    {
     "data": {
      "text/plain": [
       "<matplotlib.axes._subplots.AxesSubplot at 0x7f19c831c6a0>"
      ]
     },
     "execution_count": 14,
     "metadata": {},
     "output_type": "execute_result"
    },
    {
     "data": {
      "text/plain": [
       "<matplotlib.axes._subplots.AxesSubplot at 0x7f19c8296d30>"
      ]
     },
     "execution_count": 14,
     "metadata": {},
     "output_type": "execute_result"
    },
    {
     "data": {
      "image/png": "[encoded data removed]",
      "text/plain": [
       "<matplotlib.figure.Figure at 0x7f19c830d390>"
      ]
     },
     "metadata": {},
     "output_type": "display_data"
    }
   ],
   "source": [
    "_,ax = plt.subplots(ncols=2, figsize=(16,8))\n",
    "sns.distplot(train1['ID'], ax=ax[0], hist_kws=dict(edgecolor=\"k\", linewidth=2))\n",
    "sns.distplot(test['ID'], ax=ax[1], hist_kws=dict(edgecolor=\"k\", linewidth=2))"
   ]
  },
  {
   "cell_type": "markdown",
   "metadata": {},
   "source": [
    "The above 2 plots try to figure out on what basis test-train split has been made. `ID` feature is a unique ID of each row or each car. `ID` is distributed from 0 to 8417, each of test and train contanis half of them and from the histogram the distribution also looks close to random. \n",
    "\n",
    "So now we will try to fit a simple random forest model which could serve as our baseline model. \n",
    "\n",
    "### Random Forest"
   ]
  },
  {
   "cell_type": "markdown",
   "metadata": {},
   "source": [
    "First we need to encode our features in `cat_feat`. We will try both label encoding and one hot encoding and see which gives better score. Also we need not out features in `num_feat` as they are already in binary form. "
   ]
  },
  {
   "cell_type": "code",
   "execution_count": 93,
   "metadata": {
    "ExecuteTime": {
     "end_time": "2018-01-22T21:12:07.746317Z",
     "start_time": "2018-01-22T21:12:06.030225Z"
    },
    "code_folding": []
   },
   "outputs": [],
   "source": [
    "# first label encode our cat_feat\n",
    "encoder = LabelEncoder()\n",
    "train_le = train1.copy()\n",
    "test_le = test1.copy()\n",
    "train_test = pd.concat(( train_le.drop(['y','logy'], axis=1) , test_le), axis=0, ignore_index=True)\n",
    "for feat in cat_feat : \n",
    "    train_test.loc[:,feat] = encoder.fit_transform(train_test[feat])\n",
    "    \n",
    "train_le.loc[:,:] = train_test.loc[:train1.shape[0], :]\n",
    "train_le.loc[:, 'y'] = train1.loc[:, 'y']\n",
    "train_le.loc[:, 'logy'] = train1.loc[:, 'logy']\n",
    "test_le = train_test.loc[train1.shape[0]:, :]"
   ]
  },
  {
   "cell_type": "code",
   "execution_count": 24,
   "metadata": {
    "ExecuteTime": {
     "end_time": "2018-01-22T19:36:33.441416Z",
     "start_time": "2018-01-22T19:36:33.179449Z"
    }
   },
   "outputs": [
    {
     "data": {
      "text/html": [
       "<div>\n",
       "<style>\n",
       "    .dataframe thead tr:only-child th {\n",
       "        text-align: right;\n",
       "    }\n",
       "\n",
       "    .dataframe thead th {\n",
       "        text-align: left;\n",
       "    }\n",
       "\n",
       "    .dataframe tbody tr th {\n",
       "        vertical-align: top;\n",
       "    }\n",
       "</style>\n",
       "<table border=\"1\" class=\"dataframe\">\n",
       "  <thead>\n",
       "    <tr style=\"text-align: right;\">\n",
       "      <th></th>\n",
       "      <th>X0</th>\n",
       "      <th>X1</th>\n",
       "      <th>X2</th>\n",
       "      <th>X3</th>\n",
       "      <th>X4</th>\n",
       "      <th>X5</th>\n",
       "      <th>X6</th>\n",
       "      <th>X8</th>\n",
       "    </tr>\n",
       "  </thead>\n",
       "  <tbody>\n",
       "    <tr>\n",
       "      <th>count</th>\n",
       "      <td>4209</td>\n",
       "      <td>4209</td>\n",
       "      <td>4209</td>\n",
       "      <td>4209</td>\n",
       "      <td>4209</td>\n",
       "      <td>4209</td>\n",
       "      <td>4209</td>\n",
       "      <td>4209</td>\n",
       "    </tr>\n",
       "    <tr>\n",
       "      <th>unique</th>\n",
       "      <td>47</td>\n",
       "      <td>27</td>\n",
       "      <td>44</td>\n",
       "      <td>7</td>\n",
       "      <td>4</td>\n",
       "      <td>29</td>\n",
       "      <td>12</td>\n",
       "      <td>25</td>\n",
       "    </tr>\n",
       "    <tr>\n",
       "      <th>top</th>\n",
       "      <td>z</td>\n",
       "      <td>aa</td>\n",
       "      <td>as</td>\n",
       "      <td>c</td>\n",
       "      <td>d</td>\n",
       "      <td>w</td>\n",
       "      <td>g</td>\n",
       "      <td>j</td>\n",
       "    </tr>\n",
       "    <tr>\n",
       "      <th>freq</th>\n",
       "      <td>360</td>\n",
       "      <td>833</td>\n",
       "      <td>1659</td>\n",
       "      <td>1942</td>\n",
       "      <td>4205</td>\n",
       "      <td>231</td>\n",
       "      <td>1042</td>\n",
       "      <td>277</td>\n",
       "    </tr>\n",
       "  </tbody>\n",
       "</table>\n",
       "</div>"
      ],
      "text/plain": [
       "          X0    X1    X2    X3    X4    X5    X6    X8\n",
       "count   4209  4209  4209  4209  4209  4209  4209  4209\n",
       "unique    47    27    44     7     4    29    12    25\n",
       "top        z    aa    as     c     d     w     g     j\n",
       "freq     360   833  1659  1942  4205   231  1042   277"
      ]
     },
     "execution_count": 24,
     "metadata": {},
     "output_type": "execute_result"
    },
    {
     "data": {
      "text/html": [
       "<div>\n",
       "<style>\n",
       "    .dataframe thead tr:only-child th {\n",
       "        text-align: right;\n",
       "    }\n",
       "\n",
       "    .dataframe thead th {\n",
       "        text-align: left;\n",
       "    }\n",
       "\n",
       "    .dataframe tbody tr th {\n",
       "        vertical-align: top;\n",
       "    }\n",
       "</style>\n",
       "<table border=\"1\" class=\"dataframe\">\n",
       "  <thead>\n",
       "    <tr style=\"text-align: right;\">\n",
       "      <th></th>\n",
       "      <th>X0</th>\n",
       "      <th>X1</th>\n",
       "      <th>X2</th>\n",
       "      <th>X3</th>\n",
       "      <th>X4</th>\n",
       "      <th>X5</th>\n",
       "      <th>X6</th>\n",
       "      <th>X8</th>\n",
       "    </tr>\n",
       "  </thead>\n",
       "  <tbody>\n",
       "    <tr>\n",
       "      <th>count</th>\n",
       "      <td>4209</td>\n",
       "      <td>4209</td>\n",
       "      <td>4209</td>\n",
       "      <td>4209</td>\n",
       "      <td>4209</td>\n",
       "      <td>4209</td>\n",
       "      <td>4209</td>\n",
       "      <td>4209</td>\n",
       "    </tr>\n",
       "    <tr>\n",
       "      <th>unique</th>\n",
       "      <td>49</td>\n",
       "      <td>27</td>\n",
       "      <td>45</td>\n",
       "      <td>7</td>\n",
       "      <td>4</td>\n",
       "      <td>32</td>\n",
       "      <td>12</td>\n",
       "      <td>25</td>\n",
       "    </tr>\n",
       "    <tr>\n",
       "      <th>top</th>\n",
       "      <td>ak</td>\n",
       "      <td>aa</td>\n",
       "      <td>as</td>\n",
       "      <td>c</td>\n",
       "      <td>d</td>\n",
       "      <td>v</td>\n",
       "      <td>g</td>\n",
       "      <td>e</td>\n",
       "    </tr>\n",
       "    <tr>\n",
       "      <th>freq</th>\n",
       "      <td>432</td>\n",
       "      <td>826</td>\n",
       "      <td>1658</td>\n",
       "      <td>1900</td>\n",
       "      <td>4203</td>\n",
       "      <td>246</td>\n",
       "      <td>1073</td>\n",
       "      <td>274</td>\n",
       "    </tr>\n",
       "  </tbody>\n",
       "</table>\n",
       "</div>"
      ],
      "text/plain": [
       "          X0    X1    X2    X3    X4    X5    X6    X8\n",
       "count   4209  4209  4209  4209  4209  4209  4209  4209\n",
       "unique    49    27    45     7     4    32    12    25\n",
       "top       ak    aa    as     c     d     v     g     e\n",
       "freq     432   826  1658  1900  4203   246  1073   274"
      ]
     },
     "execution_count": 24,
     "metadata": {},
     "output_type": "execute_result"
    }
   ],
   "source": [
    "train[cat_feat].describe()\n",
    "test[cat_feat].describe()"
   ]
  },
  {
   "cell_type": "markdown",
   "metadata": {},
   "source": [
    "As we see in description of `cat_feat` in train and test, we notice that for features `X0`, `X2` and `X5` test has more levels that train. Let's analyse them more. "
   ]
  },
  {
   "cell_type": "code",
   "execution_count": 84,
   "metadata": {
    "ExecuteTime": {
     "end_time": "2018-01-22T21:05:07.471738Z",
     "start_time": "2018-01-22T21:05:07.372650Z"
    }
   },
   "outputs": [
    {
     "name": "stdout",
     "output_type": "stream",
     "text": [
      "Exclusive X0\n",
      "4 levels in train and not in test : ['aa', 'q', 'ab', 'ac']\n",
      "6 levels in test and not in train : ['ae', 'ag', 'av', 'bb', 'an', 'p']\n",
      "Exclusive X1\n",
      "0 levels in train and not in test : []\n",
      "0 levels in test and not in train : []\n",
      "Exclusive X2\n",
      "5 levels in train and not in test : ['ar', 'o', 'aa', 'c', 'l']\n",
      "6 levels in test and not in train : ['ad', 'ab', 'w', 'ax', 'aj', 'u']\n",
      "Exclusive X3\n",
      "0 levels in train and not in test : []\n",
      "0 levels in test and not in train : []\n",
      "Exclusive X4\n",
      "0 levels in train and not in test : []\n",
      "0 levels in test and not in train : []\n",
      "Exclusive X5\n",
      "1 levels in train and not in test : ['u']\n",
      "4 levels in test and not in train : ['t', 'z', 'b', 'a']\n",
      "Exclusive X6\n",
      "0 levels in train and not in test : []\n",
      "0 levels in test and not in train : []\n",
      "Exclusive X8\n",
      "0 levels in train and not in test : []\n",
      "0 levels in test and not in train : []\n"
     ]
    }
   ],
   "source": [
    "exclusive_levels(train1, test1, cat_feat)"
   ]
  },
  {
   "cell_type": "markdown",
   "metadata": {},
   "source": [
    "The function `exclusive_levels` prints the levels that are only present in either train or test. The output shows that in `X0`, `X2` and `X5` features have few levels that are only present in train or test. \n",
    "1. For the ones present only in train, we can encode them in test by all 0s. \n",
    "2. For the ones present only in test, we can delete/remove them as their encoding in train will be all zeros and will not provide any more information to our model while training. Also when our model will meet some of these level/features in test it will have no prior experience of these values and might give unexpected results. \n",
    "\n",
    "So for now we will concat train and test, one hot encode the combined dataframe, remove the features that are only present in test and separate them again. "
   ]
  },
  {
   "cell_type": "code",
   "execution_count": 95,
   "metadata": {
    "ExecuteTime": {
     "end_time": "2018-01-22T21:13:01.552978Z",
     "start_time": "2018-01-22T21:12:59.909159Z"
    }
   },
   "outputs": [],
   "source": [
    "train_test = pd.concat((train1.drop(['y','logy'], axis=1), test1), axis=0, ignore_index=True)\n",
    "train_test_ohe = pd.get_dummies(train_test, columns=cat_feat)\n",
    "features = feat_to_rem(train1, test1, cat_feat)\n",
    "train_test_ohe = train_test_ohe.drop(features, axis=1)\n",
    "train_ohe.loc[:,:] = train_test_ohe[:train1.shape[0]]\n",
    "train_ohe.loc[:,'y'] = train1['y']\n",
    "train_ohe.loc[:,'logy'] = train1['logy']\n",
    "test_ohe.loc[:,:] = train_test_ohe[train1.shape[0]:]"
   ]
  },
  {
   "cell_type": "markdown",
   "metadata": {
    "ExecuteTime": {
     "end_time": "2018-01-22T21:13:25.703857Z",
     "start_time": "2018-01-22T21:13:25.683073Z"
    }
   },
   "source": [
    "Function `feat_to_rem()` provides a list of features that should be removed according to the logic made above. \n",
    "\n",
    "So now we are ready to train our random forest model. "
   ]
  },
  {
   "cell_type": "code",
   "execution_count": 110,
   "metadata": {
    "ExecuteTime": {
     "end_time": "2018-01-22T22:28:30.139086Z",
     "start_time": "2018-01-22T22:25:47.397534Z"
    }
   },
   "outputs": [
    {
     "name": "stderr",
     "output_type": "stream",
     "text": [
      "100%|██████████| 8/8 [02:42<00:00, 20.33s/it]\n"
     ]
    }
   ],
   "source": [
    "X_le = train_le.drop(['y','logy'], axis=1)\n",
    "y = train_le['y']\n",
    "logy = train_le['logy']\n",
    "scores = []\n",
    "for estimators in tqdm(range(10, 200, 15)):\n",
    "    rf = RandomForestRegressor(n_estimators=estimators, max_features='sqrt')\n",
    "    scores.append(cross_val_score(rf, X_le, y, cv=5, scoring='r2', n_jobs=-1))\n"
   ]
  },
  {
   "cell_type": "code",
   "execution_count": 121,
   "metadata": {
    "ExecuteTime": {
     "end_time": "2018-01-22T22:37:50.973707Z",
     "start_time": "2018-01-22T22:37:50.275672Z"
    }
   },
   "outputs": [
    {
     "data": {
      "text/plain": [
       "<matplotlib.axes._subplots.AxesSubplot at 0x7f19bc303f60>"
      ]
     },
     "execution_count": 121,
     "metadata": {},
     "output_type": "execute_result"
    },
    {
     "data": {
      "image/png": "[encoded data removed]",
      "text/plain": [
       "<matplotlib.figure.Figure at 0x7f19bc369898>"
      ]
     },
     "metadata": {},
     "output_type": "display_data"
    }
   ],
   "source": [
    "scores = np.array(scores)\n",
    "sns.pointplot(x=list(range(10, 200, 20)), y=scores.mean(axis=1))"
   ]
  },
  {
   "cell_type": "code",
   "execution_count": 127,
   "metadata": {
    "ExecuteTime": {
     "end_time": "2018-01-22T22:55:07.942756Z",
     "start_time": "2018-01-22T22:54:19.342394Z"
    }
   },
   "outputs": [
    {
     "data": {
      "text/plain": [
       "array([ 0.40348714,  0.42258794,  0.55932638,  0.48035472,  0.56997768])"
      ]
     },
     "execution_count": 127,
     "metadata": {},
     "output_type": "execute_result"
    }
   ],
   "source": [
    "rf_le = RandomForestRegressor(n_estimators=300, max_features='sqrt')\n",
    "cross_val_score(rf_le, X_le, y, cv=5, scoring='r2', n_jobs=-1)"
   ]
  },
  {
   "cell_type": "code",
   "execution_count": 141,
   "metadata": {
    "ExecuteTime": {
     "end_time": "2018-01-22T23:51:29.502124Z",
     "start_time": "2018-01-22T23:50:28.516532Z"
    }
   },
   "outputs": [
    {
     "data": {
      "text/plain": [
       "array([ 0.44568826,  0.42439915,  0.57792551,  0.49871934,  0.58443737])"
      ]
     },
     "execution_count": 141,
     "metadata": {},
     "output_type": "execute_result"
    }
   ],
   "source": [
    "X_ohe = train_ohe.drop(['y','logy'], axis=1)\n",
    "\n",
    "rf_ohe = RandomForestRegressor(n_estimators=300, max_features='sqrt')\n",
    "cross_val_score(rf_ohe, X_ohe, y, cv=5, scoring='r2', n_jobs=-1)"
   ]
  },
  {
   "cell_type": "code",
   "execution_count": 130,
   "metadata": {
    "ExecuteTime": {
     "end_time": "2018-01-22T22:59:59.120341Z",
     "start_time": "2018-01-22T22:59:23.353697Z"
    }
   },
   "outputs": [
    {
     "data": {
      "text/plain": [
       "RandomForestRegressor(bootstrap=True, criterion='mse', max_depth=None,\n",
       "           max_features='sqrt', max_leaf_nodes=None,\n",
       "           min_impurity_decrease=0.0, min_impurity_split=None,\n",
       "           min_samples_leaf=1, min_samples_split=2,\n",
       "           min_weight_fraction_leaf=0.0, n_estimators=300, n_jobs=1,\n",
       "           oob_score=False, random_state=None, verbose=0, warm_start=False)"
      ]
     },
     "execution_count": 130,
     "metadata": {},
     "output_type": "execute_result"
    },
    {
     "data": {
      "text/plain": [
       "array([  7.65624453e-02,   3.12350032e-02,   8.54030669e-03,\n",
       "         8.85804896e-03,   1.42287028e-02,   2.75191968e-04,\n",
       "         4.67355008e-02,   3.10043541e-02,   2.44207446e-02,\n",
       "         1.60225058e-04,   1.94991210e-03,   8.13374253e-04,\n",
       "         3.13092176e-03,   8.78661665e-06,   1.52685683e-04,\n",
       "         5.33182191e-04,   2.22788976e-04,   2.26988853e-03,\n",
       "         1.71599678e-03,   3.08198414e-05,   8.92145314e-04,\n",
       "         3.97754546e-04,   4.48005345e-05,   1.88098000e-04,\n",
       "         3.31098255e-03,   3.90403655e-03,   1.86962108e-02,\n",
       "         6.42341423e-05,   4.51095042e-03,   7.18014033e-05,\n",
       "         1.32799521e-06,   2.42179304e-04,   1.02290588e-04,\n",
       "         1.00659860e-03,   1.25923197e-05,   3.78018232e-04,\n",
       "         1.38882381e-06,   1.64342831e-03,   7.95514222e-05,\n",
       "         1.17150667e-03,   4.34912670e-03,   2.17980796e-03,\n",
       "         7.89182893e-04,   1.30867421e-03,   2.32856646e-03,\n",
       "         5.78156895e-03,   1.09194382e-03,   9.39047450e-05,\n",
       "         1.24389865e-02,   5.64375311e-05,   5.48314301e-04,\n",
       "         2.32784643e-04,   4.80936818e-03,   4.03714126e-06,\n",
       "         1.27652920e-05,   1.24122606e-03,   9.30508748e-05,\n",
       "         2.13727328e-04,   3.28179582e-03,   4.00823593e-04,\n",
       "         7.81673496e-04,   1.43136098e-05,   2.03446377e-03,\n",
       "         5.03950502e-04,   2.83695792e-03,   2.80869756e-03,\n",
       "         1.20188366e-03,   3.50362736e-05,   6.44652930e-04,\n",
       "         1.37971057e-03,   9.49241038e-05,   8.63248894e-04,\n",
       "         3.80127493e-03,   2.44403387e-03,   6.63377726e-04,\n",
       "         5.26172227e-05,   2.07287249e-03,   2.80644727e-04,\n",
       "         1.15855604e-05,   1.39993011e-04,   1.28487872e-05,\n",
       "         1.25776784e-04,   7.60306590e-05,   2.26968616e-05,\n",
       "         1.50436305e-04,   2.28452499e-03,   1.43336039e-04,\n",
       "         1.08027833e-03,   1.93141053e-04,   3.22955304e-03,\n",
       "         9.52512232e-04,   2.08499329e-03,   5.73857025e-04,\n",
       "         1.85579989e-04,   2.54883540e-04,   1.25923043e-03,\n",
       "         1.44421701e-03,   1.68350164e-05,   1.10849482e-03,\n",
       "         1.23194393e-05,   1.96028106e-03,   9.24583195e-03,\n",
       "         3.21046614e-03,   1.62746513e-03,   1.37814780e-02,\n",
       "         8.77909127e-04,   7.64399700e-05,   2.44185889e-05,\n",
       "         4.68677534e-05,   2.60398136e-03,   6.46361792e-02,\n",
       "         9.32137412e-04,   1.46891919e-03,   2.04235054e-03,\n",
       "         9.56111011e-04,   2.17928932e-03,   1.21677537e-03,\n",
       "         3.92660467e-04,   1.33186205e-02,   5.15719847e-03,\n",
       "         6.47195251e-04,   1.67665423e-03,   6.16364074e-04,\n",
       "         6.55575544e-04,   3.69763457e-03,   5.50874977e-04,\n",
       "         2.12912633e-03,   1.73681277e-04,   1.83689679e-03,\n",
       "         2.29190360e-03,   3.12873654e-03,   2.30407366e-03,\n",
       "         1.04606785e-04,   1.86240434e-03,   1.42967323e-03,\n",
       "         2.44982651e-03,   2.41442664e-03,   3.75074832e-03,\n",
       "         1.39355778e-03,   1.65035267e-05,   9.72435746e-04,\n",
       "         8.96324945e-03,   2.58777969e-03,   1.33824398e-03,\n",
       "         1.55967135e-04,   4.21499946e-03,   2.35977437e-05,\n",
       "         2.76425522e-03,   1.14461952e-03,   5.37330131e-04,\n",
       "         3.02249477e-03,   5.42023007e-04,   2.49354249e-04,\n",
       "         6.62512704e-04,   8.70900744e-04,   1.65889094e-03,\n",
       "         5.57628289e-03,   2.24604011e-03,   1.64232250e-03,\n",
       "         1.25762284e-03,   1.60862279e-03,   3.32149228e-05,\n",
       "         5.59883106e-05,   1.73177561e-03,   2.22701747e-03,\n",
       "         1.97277990e-03,   4.56154955e-03,   7.08310546e-06,\n",
       "         2.63713058e-03,   4.84474724e-05,   1.61044722e-03,\n",
       "         5.03595902e-04,   7.38518654e-04,   3.98951323e-04,\n",
       "         9.79372183e-04,   5.38866985e-05,   2.02766206e-03,\n",
       "         9.34247612e-04,   3.75646382e-04,   7.40932878e-05,\n",
       "         1.94111569e-04,   4.72390674e-04,   7.29446057e-06,\n",
       "         9.46287798e-04,   1.00691782e-03,   9.62021368e-06,\n",
       "         3.41101118e-04,   1.84036216e-04,   2.56683705e-03,\n",
       "         1.96028509e-04,   3.50157892e-03,   1.48707305e-03,\n",
       "         3.03910106e-03,   8.39499973e-04,   4.93013981e-03,\n",
       "         2.30474910e-03,   2.30323176e-03,   7.01938732e-04,\n",
       "         7.68303341e-04,   1.22766620e-04,   1.19235190e-03,\n",
       "         8.38053598e-03,   6.78303265e-04,   2.16755074e-04,\n",
       "         5.21965585e-03,   2.38598397e-04,   2.22094292e-03,\n",
       "         1.54452142e-03,   2.18655390e-04,   7.54090203e-03,\n",
       "         2.20775236e-03,   3.65180979e-06,   2.55707721e-04,\n",
       "         8.75667227e-04,   5.70195796e-07,   5.27915536e-05,\n",
       "         2.36089166e-05,   2.17958337e-05,   7.53109185e-02,\n",
       "         1.41489255e-02,   2.15494079e-03,   3.33922867e-03,\n",
       "         1.41859028e-03,   4.85504608e-06,   2.61287069e-07,\n",
       "         8.21725037e-05,   8.96299017e-03,   4.00828892e-03,\n",
       "         1.00330154e-03,   1.26015401e-02,   7.99901515e-03,\n",
       "         8.85366450e-05,   8.59539792e-07,   1.02244581e-06,\n",
       "         6.99317977e-06,   3.17966993e-05,   1.34344044e-03,\n",
       "         4.32281727e-04,   1.35497985e-03,   1.43766407e-03,\n",
       "         8.05386296e-04,   1.75961768e-05,   6.86708379e-04,\n",
       "         5.58314535e-04,   1.63033949e-03,   3.98925183e-06,\n",
       "         2.32177146e-04,   1.75433042e-03,   3.28477934e-03,\n",
       "         2.00542851e-03,   1.82786082e-04,   7.68286429e-04,\n",
       "         2.20772401e-05,   9.94804846e-05,   4.42262128e-04,\n",
       "         2.07934180e-04,   1.12068072e-02,   2.27253700e-04,\n",
       "         2.65923709e-02,   6.93961487e-02,   1.06011530e-02,\n",
       "         1.94544373e-02,   1.16530726e-04,   5.70331682e-05,\n",
       "         2.99199743e-05,   2.19256992e-03,   1.02530546e-03,\n",
       "         1.63359462e-04,   1.95673103e-04,   2.20291191e-03,\n",
       "         8.39430269e-03,   1.78647525e-03,   4.83888381e-04,\n",
       "         9.84917670e-05,   4.98640366e-04,   2.70406195e-03,\n",
       "         8.36680014e-05,   1.14604382e-03,   2.85050069e-03,\n",
       "         2.11104893e-04,   6.42304653e-04,   8.05974434e-04,\n",
       "         6.94854535e-04,   1.51205159e-03,   8.21805363e-04,\n",
       "         4.83804075e-04,   1.26157922e-03,   2.66700608e-04,\n",
       "         2.78639707e-03,   6.59733373e-04,   2.61400251e-03,\n",
       "         2.12804177e-03,   4.59827994e-04,   1.50901401e-04,\n",
       "         3.48123991e-03,   2.37142923e-03,   1.10518701e-03,\n",
       "         2.43909587e-05,   1.83942771e-03,   5.03101247e-04,\n",
       "         5.38432170e-04,   1.47015450e-03,   2.03139041e-03,\n",
       "         8.96339073e-05,   5.24097576e-04,   1.08614795e-03,\n",
       "         1.58262941e-05,   3.15506925e-05,   2.14251630e-04,\n",
       "         3.79547744e-06,   3.40245943e-04,   2.68549654e-03,\n",
       "         2.39878382e-03,   8.48666346e-04,   1.61067032e-03,\n",
       "         2.59290400e-03,   2.21344717e-04,   2.06503491e-04,\n",
       "         8.98779862e-04,   1.05358369e-05])"
      ]
     },
     "execution_count": 130,
     "metadata": {},
     "output_type": "execute_result"
    },
    {
     "data": {
      "text/plain": [
       "RandomForestRegressor(bootstrap=True, criterion='mse', max_depth=None,\n",
       "           max_features='sqrt', max_leaf_nodes=None,\n",
       "           min_impurity_decrease=0.0, min_impurity_split=None,\n",
       "           min_samples_leaf=1, min_samples_split=2,\n",
       "           min_weight_fraction_leaf=0.0, n_estimators=300, n_jobs=1,\n",
       "           oob_score=False, random_state=None, verbose=0, warm_start=False)"
      ]
     },
     "execution_count": 130,
     "metadata": {},
     "output_type": "execute_result"
    },
    {
     "data": {
      "text/plain": [
       "array([  5.49457808e-02,   8.66677304e-05,   1.84645612e-03,\n",
       "         8.14751606e-04,   3.41854476e-03,   1.23212963e-05,\n",
       "         1.57976368e-04,   2.62432868e-04,   2.24952374e-04,\n",
       "         1.85972647e-03,   1.54435474e-03,   2.89386944e-05,\n",
       "         6.48603863e-04,   4.13267225e-04,   2.79493541e-05,\n",
       "         1.50991164e-04,   3.37681197e-03,   3.11391732e-03,\n",
       "         1.37265056e-02,   7.93511161e-05,   3.41232120e-03,\n",
       "         4.95873349e-05,   1.68150393e-06,   2.55060936e-04,\n",
       "         9.11234401e-05,   7.66625277e-04,   1.31205505e-05,\n",
       "         2.75115500e-04,   3.55927829e-06,   1.01367736e-03,\n",
       "         5.90930611e-05,   1.19240418e-03,   3.29371464e-03,\n",
       "         2.03781560e-03,   1.02876470e-03,   1.45113196e-03,\n",
       "         1.86162695e-03,   5.17331204e-03,   1.21479091e-03,\n",
       "         2.21176129e-05,   1.41832592e-02,   6.00379299e-05,\n",
       "         4.55478227e-04,   2.78366964e-04,   4.50664158e-03,\n",
       "         7.04361101e-07,   1.88230974e-05,   1.20505550e-03,\n",
       "         3.57626554e-04,   1.83331308e-04,   2.51205506e-03,\n",
       "         3.43931100e-04,   1.02679851e-03,   2.23950100e-05,\n",
       "         1.78044783e-03,   4.57575603e-04,   2.14708937e-03,\n",
       "         2.54676242e-03,   9.06410850e-04,   1.56390674e-05,\n",
       "         6.20097551e-04,   1.22451100e-03,   5.56581468e-05,\n",
       "         6.93588571e-04,   3.55552530e-03,   1.98441421e-03,\n",
       "         5.73517046e-04,   4.99402016e-05,   1.71544502e-03,\n",
       "         1.91458568e-04,   5.24525588e-06,   1.87223494e-04,\n",
       "         9.29554742e-06,   1.56912517e-04,   4.79123905e-05,\n",
       "         1.41945805e-05,   1.27183465e-04,   2.29646038e-03,\n",
       "         9.34676297e-05,   6.68976223e-04,   2.24369885e-04,\n",
       "         2.41439343e-03,   9.84386606e-04,   1.74491191e-03,\n",
       "         4.30788342e-04,   1.98308846e-04,   2.46093490e-04,\n",
       "         6.69812598e-04,   1.07654286e-03,   8.03690149e-05,\n",
       "         9.84690325e-04,   6.80756883e-06,   1.77224370e-03,\n",
       "         8.20461718e-03,   2.30991366e-03,   1.20883202e-03,\n",
       "         1.27353614e-02,   9.57359275e-04,   6.73804541e-05,\n",
       "         3.37080807e-05,   8.69925669e-05,   1.30315378e-03,\n",
       "         7.33943094e-02,   1.74378372e-03,   1.23114780e-03,\n",
       "         2.26598765e-03,   7.54637046e-04,   1.81886143e-03,\n",
       "         9.52449443e-04,   3.03026382e-04,   9.73002618e-03,\n",
       "         4.42149480e-03,   6.11265539e-04,   1.53643300e-03,\n",
       "         6.33986191e-04,   5.62742242e-04,   3.19392431e-03,\n",
       "         4.34819634e-04,   2.17028171e-03,   8.94497807e-05,\n",
       "         1.01138162e-03,   2.04522490e-03,   2.28894166e-03,\n",
       "         1.91725142e-03,   7.42399226e-05,   2.07132781e-03,\n",
       "         1.26399013e-03,   2.72146454e-03,   2.57495153e-03,\n",
       "         3.16476895e-03,   1.44323230e-03,   3.14865305e-05,\n",
       "         8.76896582e-04,   5.56906246e-03,   2.18534060e-03,\n",
       "         1.15574436e-03,   9.38850126e-05,   9.10977202e-03,\n",
       "         3.13251801e-05,   2.12707468e-03,   9.70215639e-04,\n",
       "         9.47669469e-04,   2.32789017e-03,   4.35733101e-04,\n",
       "         2.59901773e-04,   5.51473089e-04,   8.02360208e-04,\n",
       "         1.20634275e-03,   5.72263685e-03,   2.28767068e-03,\n",
       "         1.46821192e-03,   1.19193966e-03,   1.32082868e-03,\n",
       "         1.81611024e-05,   6.26918548e-05,   2.36702187e-03,\n",
       "         1.36790336e-03,   1.65989818e-03,   4.05732692e-03,\n",
       "         9.50237719e-06,   2.33070659e-03,   2.53479293e-05,\n",
       "         1.71278451e-03,   3.93498729e-04,   5.22912243e-04,\n",
       "         3.89583665e-04,   1.02902979e-03,   5.08054067e-05,\n",
       "         1.84731856e-03,   7.69866044e-04,   2.74481239e-04,\n",
       "         1.09351026e-04,   1.12394173e-04,   4.81603577e-04,\n",
       "         5.20482984e-06,   9.26033297e-04,   9.17169163e-04,\n",
       "         1.07848395e-06,   3.42531935e-04,   9.67819062e-05,\n",
       "         2.90958546e-03,   1.73859864e-04,   2.62723640e-03,\n",
       "         1.25469770e-03,   2.52062663e-03,   3.16132202e-04,\n",
       "         4.64785345e-03,   2.38550248e-03,   1.76048433e-03,\n",
       "         6.77040044e-04,   6.23365192e-04,   1.37862321e-04,\n",
       "         8.39308743e-04,   9.02336380e-03,   9.62789418e-04,\n",
       "         8.11781041e-05,   4.60660229e-03,   2.49734027e-04,\n",
       "         1.95443933e-03,   1.39963539e-03,   2.07463851e-04,\n",
       "         6.82272956e-03,   1.89142670e-03,   2.02849230e-06,\n",
       "         3.38596861e-04,   5.31003808e-04,   2.62082481e-06,\n",
       "         4.92610108e-05,   6.41515941e-06,   2.18338779e-05,\n",
       "         5.70230015e-02,   1.32071693e-02,   2.01542552e-03,\n",
       "         4.25355424e-03,   1.34854934e-03,   6.05361228e-06,\n",
       "         1.06856142e-07,   4.68618858e-05,   6.90074280e-03,\n",
       "         3.05280255e-03,   5.75844182e-04,   8.04774934e-03,\n",
       "         8.17791557e-03,   7.80690030e-05,   5.10524792e-07,\n",
       "         1.15486679e-05,   8.64479599e-06,   1.03020898e-05,\n",
       "         1.27351840e-03,   3.74706123e-04,   1.15524848e-03,\n",
       "         1.93492004e-03,   7.26244333e-04,   6.29598689e-06,\n",
       "         4.94529429e-04,   3.50579132e-04,   1.43778565e-03,\n",
       "         1.29005772e-06,   1.56057458e-04,   1.59683991e-03,\n",
       "         2.34012542e-03,   2.57191343e-03,   1.87992751e-04,\n",
       "         6.76704964e-04,   2.02830492e-05,   6.69792156e-05,\n",
       "         1.68365707e-04,   1.94380540e-04,   1.07860979e-02,\n",
       "         1.98714324e-04,   2.48531168e-02,   6.36319919e-02,\n",
       "         8.56793491e-03,   1.54481657e-02,   6.87011481e-05,\n",
       "         3.57023944e-05,   2.79078625e-05,   1.71927736e-03,\n",
       "         7.99329949e-04,   1.67725828e-04,   2.36561126e-04,\n",
       "         1.78598758e-03,   9.29416159e-03,   1.53036367e-03,\n",
       "         4.27261928e-04,   9.37560866e-05,   2.96194977e-04,\n",
       "         2.60331451e-03,   1.54439488e-05,   1.04059657e-03,\n",
       "         2.79014069e-03,   1.72837942e-04,   6.69923960e-04,\n",
       "         6.42722745e-04,   5.56538040e-04,   1.21315366e-03,\n",
       "         8.53530884e-04,   2.90362309e-04,   1.00201156e-03,\n",
       "         3.46619828e-04,   2.64549573e-03,   5.06541150e-04,\n",
       "         2.13568767e-03,   1.92647444e-03,   5.75272332e-04,\n",
       "         1.72083820e-04,   3.58470973e-03,   2.10303386e-03,\n",
       "         9.86099568e-04,   1.16372323e-05,   1.71975998e-03,\n",
       "         5.20541066e-04,   5.79637172e-04,   1.37585312e-03,\n",
       "         1.97859807e-03,   5.91043784e-05,   4.83093798e-04,\n",
       "         8.50753953e-04,   9.70747374e-06,   3.45264628e-05,\n",
       "         1.18710545e-03,   2.78403567e-06,   3.70367977e-04,\n",
       "         2.18451754e-03,   2.01014583e-03,   7.43620870e-04,\n",
       "         1.60789488e-03,   3.09854927e-03,   1.54290976e-04,\n",
       "         1.74657144e-04,   8.06212295e-04,   3.80542464e-06,\n",
       "         7.13408631e-05,   8.13108321e-04,   1.07706994e-04,\n",
       "         2.41600272e-06,   1.38909451e-04,   1.51028667e-03,\n",
       "         7.79386372e-04,   1.41686960e-03,   1.13414735e-02,\n",
       "         1.77408585e-03,   1.42937709e-04,   8.91344627e-05,\n",
       "         9.68820600e-04,   1.93503762e-04,   1.62348931e-04,\n",
       "         1.07993521e-03,   6.13606297e-04,   1.41234661e-04,\n",
       "         2.65594657e-04,   2.13454243e-03,   7.19746811e-03,\n",
       "         5.72380728e-05,   2.00434797e-04,   2.20803731e-05,\n",
       "         3.92203608e-05,   6.70556479e-04,   2.26044389e-04,\n",
       "         2.79226782e-03,   2.93866997e-07,   5.74396571e-04,\n",
       "         2.26755896e-04,   3.12167891e-03,   4.94355273e-05,\n",
       "         1.30733772e-04,   3.67939065e-04,   1.57569294e-03,\n",
       "         2.23832830e-03,   5.62883309e-06,   3.03713343e-04,\n",
       "         1.05890232e-03,   2.98531482e-03,   1.19297081e-04,\n",
       "         2.92688548e-04,   3.22763430e-03,   1.04541059e-02,\n",
       "         3.40168490e-03,   2.81102785e-03,   5.38152718e-04,\n",
       "         1.35312431e-03,   9.13151435e-05,   8.73456766e-04,\n",
       "         3.03696055e-04,   1.02590037e-05,   1.41015268e-04,\n",
       "         6.56285360e-04,   2.44742492e-05,   5.46831840e-04,\n",
       "         4.60345930e-04,   1.05322946e-04,   4.11148552e-05,\n",
       "         1.40019690e-03,   2.67122811e-04,   6.18446305e-04,\n",
       "         1.28956761e-03,   4.04468449e-05,   1.53687045e-05,\n",
       "         2.50013036e-03,   1.02562928e-03,   2.09832624e-04,\n",
       "         2.55995465e-04,   1.78115350e-03,   2.66591878e-04,\n",
       "         1.30944899e-04,   2.25947606e-04,   7.30686533e-05,\n",
       "         1.13263701e-04,   7.47878903e-05,   1.12595355e-03,\n",
       "         8.66056820e-06,   3.54120502e-05,   2.42351183e-05,\n",
       "         2.34327726e-03,   1.26376622e-03,   1.07688347e-05,\n",
       "         2.12717891e-05,   3.83467702e-05,   4.13410516e-05,\n",
       "         1.53325064e-04,   3.58510871e-04,   3.92533456e-05,\n",
       "         1.79723807e-03,   7.29192618e-05,   5.14243494e-06,\n",
       "         4.10342875e-05,   7.37366477e-06,   9.68134711e-05,\n",
       "         1.40818260e-04,   2.28401552e-06,   5.81993473e-05,\n",
       "         3.43033963e-04,   4.33575424e-04,   1.10105868e-05,\n",
       "         2.15975163e-04,   2.33900485e-04,   6.77942399e-06,\n",
       "         2.87905332e-04,   3.90243537e-06,   7.85771809e-04,\n",
       "         1.93916630e-03,   2.45218087e-06,   1.81218092e-05,\n",
       "         6.48329931e-05,   1.21851040e-03,   5.03109431e-04,\n",
       "         4.17561383e-05,   2.10906330e-04,   7.41879482e-05,\n",
       "         8.49011744e-05,   4.17424079e-03,   2.29231725e-04,\n",
       "         6.04706235e-03,   1.24017204e-03,   1.11628304e-03,\n",
       "         2.18761793e-03,   1.52272217e-03,   5.12165584e-06,\n",
       "         7.84774816e-06,   1.69866607e-04,   1.76269819e-04,\n",
       "         1.16573903e-03,   4.08168214e-03,   3.01507214e-03,\n",
       "         2.26774323e-03,   2.26553662e-03,   2.59141368e-03,\n",
       "         8.60569951e-03,   1.45482939e-03,   3.02012776e-03,\n",
       "         2.17350644e-03,   5.21390094e-04,   3.20173686e-06,\n",
       "         7.61482341e-07,   2.46099444e-03,   1.13228537e-03,\n",
       "         2.61985345e-03,   1.93421687e-03,   4.43659898e-03,\n",
       "         4.95764562e-03,   2.96253246e-04,   3.70371182e-03,\n",
       "         4.03040368e-03,   2.58424975e-03,   2.41688624e-03,\n",
       "         1.47471379e-04,   2.43923296e-03,   2.24966070e-03,\n",
       "         1.05295440e-05,   8.23841649e-07,   2.18110348e-03,\n",
       "         3.08315334e-04,   4.34444227e-04,   4.63773356e-03,\n",
       "         8.02436109e-04,   8.83054152e-05,   8.43048421e-03,\n",
       "         2.54831193e-03,   4.21723318e-03,   6.56753687e-03,\n",
       "         1.57574450e-03,   4.18907586e-03,   1.67672687e-03,\n",
       "         1.58757481e-03,   9.12981983e-04,   7.17019767e-04,\n",
       "         1.23334225e-03,   1.77843622e-03,   1.90204564e-03,\n",
       "         1.25587373e-03,   1.52243355e-03,   1.99385257e-03,\n",
       "         1.26493470e-03,   1.07329455e-03,   1.82746037e-03,\n",
       "         1.67475729e-03,   1.35814201e-03,   1.34685355e-03,\n",
       "         1.25560327e-03,   1.73093432e-03,   1.58780751e-03,\n",
       "         8.83292801e-03,   5.42763953e-04,   1.83062754e-03,\n",
       "         1.64109509e-03,   1.08873367e-03,   1.17136370e-03])"
      ]
     },
     "execution_count": 130,
     "metadata": {},
     "output_type": "execute_result"
    }
   ],
   "source": [
    "rf_le.fit(X_le, y)\n",
    "rf_le.feature_importances_\n",
    "rf_ohe.fit(X_ohe, y)\n",
    "rf_ohe.feature_importances_\n"
   ]
  },
  {
   "cell_type": "code",
   "execution_count": 138,
   "metadata": {
    "ExecuteTime": {
     "end_time": "2018-01-22T23:07:18.606039Z",
     "start_time": "2018-01-22T23:07:17.953617Z"
    }
   },
   "outputs": [
    {
     "data": {
      "text/plain": [
       "224"
      ]
     },
     "execution_count": 138,
     "metadata": {},
     "output_type": "execute_result"
    },
    {
     "data": {
      "text/plain": [
       "0"
      ]
     },
     "execution_count": 138,
     "metadata": {},
     "output_type": "execute_result"
    },
    {
     "data": {
      "text/plain": [
       "102"
      ]
     },
     "execution_count": 138,
     "metadata": {},
     "output_type": "execute_result"
    },
    {
     "data": {
      "text/plain": [
       "216"
      ]
     },
     "execution_count": 138,
     "metadata": {},
     "output_type": "execute_result"
    }
   ],
   "source": [
    "rf_le.feature_importances_.argmin()\n",
    "rf_le.feature_importances_.argmax()\n",
    "rf_ohe.feature_importances_.argmax()\n",
    "rf_ohe.feature_importances_.argmin()"
   ]
  },
  {
   "cell_type": "code",
   "execution_count": 140,
   "metadata": {
    "ExecuteTime": {
     "end_time": "2018-01-22T23:23:47.067509Z",
     "start_time": "2018-01-22T23:23:47.041733Z"
    }
   },
   "outputs": [
    {
     "data": {
      "text/plain": [
       "[DecisionTreeRegressor(criterion='mse', max_depth=None, max_features='sqrt',\n",
       "            max_leaf_nodes=None, min_impurity_decrease=0.0,\n",
       "            min_impurity_split=None, min_samples_leaf=1,\n",
       "            min_samples_split=2, min_weight_fraction_leaf=0.0,\n",
       "            presort=False, random_state=280896594, splitter='best'),\n",
       " DecisionTreeRegressor(criterion='mse', max_depth=None, max_features='sqrt',\n",
       "            max_leaf_nodes=None, min_impurity_decrease=0.0,\n",
       "            min_impurity_split=None, min_samples_leaf=1,\n",
       "            min_samples_split=2, min_weight_fraction_leaf=0.0,\n",
       "            presort=False, random_state=2060635922, splitter='best'),\n",
       " DecisionTreeRegressor(criterion='mse', max_depth=None, max_features='sqrt',\n",
       "            max_leaf_nodes=None, min_impurity_decrease=0.0,\n",
       "            min_impurity_split=None, min_samples_leaf=1,\n",
       "            min_samples_split=2, min_weight_fraction_leaf=0.0,\n",
       "            presort=False, random_state=903175054, splitter='best')]"
      ]
     },
     "execution_count": 140,
     "metadata": {},
     "output_type": "execute_result"
    }
   ],
   "source": [
    "rf_le.estimators_[:3]"
   ]
  }
 ],
 "metadata": {
  "kernelspec": {
   "display_name": "Python 3",
   "language": "python",
   "name": "python3"
  },
  "language_info": {
   "codemirror_mode": {
    "name": "ipython",
    "version": 3
   },
   "file_extension": ".py",
   "mimetype": "text/x-python",
   "name": "python",
   "nbconvert_exporter": "python",
   "pygments_lexer": "ipython3",
   "version": "3.5.2"
  }
 },
 "nbformat": 4,
 "nbformat_minor": 2
}
