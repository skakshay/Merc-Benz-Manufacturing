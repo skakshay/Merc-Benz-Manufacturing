{
 "cells": [
  {
   "cell_type": "code",
   "execution_count": 6,
   "metadata": {
    "ExecuteTime": {
     "end_time": "2018-01-24T07:07:45.664502Z",
     "start_time": "2018-01-24T07:07:45.631578Z"
    }
   },
   "outputs": [],
   "source": [
    "%matplotlib inline\n",
    "from IPython.core.interactiveshell import InteractiveShell \n",
    "from tqdm import tqdm\n",
    "import numpy as np\n",
    "import pandas as pd\n",
    "from scipy import stats\n",
    "import seaborn as sns\n",
    "import matplotlib as mpl\n",
    "import matplotlib.pyplot as plt\n",
    "from sklearn.feature_selection import VarianceThreshold\n",
    "from sklearn.preprocessing import LabelEncoder\n",
    "from sklearn.ensemble import RandomForestRegressor\n",
    "from sklearn.model_selection import cross_val_score, StratifiedKFold, train_test_split, KFold\n",
    "from sklearn.metrics import r2_score"
   ]
  },
  {
   "cell_type": "code",
   "execution_count": 7,
   "metadata": {
    "ExecuteTime": {
     "end_time": "2018-01-24T07:07:46.165811Z",
     "start_time": "2018-01-24T07:07:46.150240Z"
    }
   },
   "outputs": [],
   "source": [
    "InteractiveShell.ast_node_interactivity = \"all\"\n",
    "path = \"../../csv/Mercedes-Benz Greener Manufacturing/\"\n",
    "random_state = 11"
   ]
  },
  {
   "cell_type": "code",
   "execution_count": 102,
   "metadata": {
    "ExecuteTime": {
     "end_time": "2018-01-24T10:39:38.483422Z",
     "start_time": "2018-01-24T10:39:38.360940Z"
    }
   },
   "outputs": [],
   "source": [
    "def anova(features, target, df):\n",
    "    oneway_f = pd.DataFrame(index = features, columns=['f-stat','p-value'])\n",
    "    for feat in tqdm(features):\n",
    "        samples=[]\n",
    "        for level in list(df[feat].unique()):\n",
    "            samples.append(list(df.loc[df[feat]==level, [target]].values))\n",
    "        f_stat, p_val = stats.f_oneway(*samples)\n",
    "        oneway_f.loc[feat,:] = np.stack((f_stat, p_val)).flatten()\n",
    "    return oneway_f\n",
    "\n",
    "\n",
    "def feat_to_rem(train, test, columns):\n",
    "    features=[]\n",
    "    for col in columns : \n",
    "        level_train = list(train[col].value_counts().index)\n",
    "        level_test = list(test[col].value_counts().index)\n",
    "        excl_feat = [l for l in level_test if l not in level_train]\n",
    "        features.extend([col+'_'+ f for f in excl_feat])\n",
    "    return features\n",
    "\n",
    "def exclusive_levels(train, test, columns):\n",
    "    for col in columns:\n",
    "        train_levels = list(train[col].value_counts().index)\n",
    "        test_levels = list(test[col].value_counts().index)\n",
    "        exc_train = [lev for lev in train_levels if lev not in test_levels]\n",
    "        exc_test = [lev for lev in test_levels if lev not in train_levels]\n",
    "        print ('Exclusive {0}'.format(col))\n",
    "        print ('{0} levels in train and not in test : {1}'.format(len(exc_train), exc_train))\n",
    "        print ('{0} levels in test and not in train : {1}'.format(len(exc_test), exc_test))"
   ]
  },
  {
   "cell_type": "code",
   "execution_count": 9,
   "metadata": {
    "ExecuteTime": {
     "end_time": "2018-01-24T07:07:48.906179Z",
     "start_time": "2018-01-24T07:07:48.293005Z"
    }
   },
   "outputs": [],
   "source": [
    "train = pd.read_csv(path+\"train.csv\")\n",
    "test = pd.read_csv(path+\"test.csv\")"
   ]
  },
  {
   "cell_type": "code",
   "execution_count": null,
   "metadata": {},
   "outputs": [],
   "source": [
    "train.head(10)\n",
    "train.shape, test.shape\n",
    "train.info()"
   ]
  },
  {
   "cell_type": "markdown",
   "metadata": {},
   "source": [
    "Okay, so there are 4209 values in train and test. There are 378 columns including the target variable out of which 8 are object type, 1 is float(target variable 'y') and rest are integer. The integer features except the target variable are binary in nature taking only 2 values : 0 and 1. "
   ]
  },
  {
   "cell_type": "code",
   "execution_count": 10,
   "metadata": {
    "ExecuteTime": {
     "end_time": "2018-01-24T07:07:55.000132Z",
     "start_time": "2018-01-24T07:07:54.872275Z"
    }
   },
   "outputs": [],
   "source": [
    "cat_feat = train.select_dtypes(include=['object']).columns\n",
    "num_feat = train.select_dtypes(include=['int64', 'float64']).columns"
   ]
  },
  {
   "cell_type": "markdown",
   "metadata": {},
   "source": [
    "cat_feat has all categorical features, while num_feat has all numerical features."
   ]
  },
  {
   "cell_type": "code",
   "execution_count": null,
   "metadata": {},
   "outputs": [],
   "source": [
    "train.isnull().sum().sum()"
   ]
  },
  {
   "cell_type": "markdown",
   "metadata": {},
   "source": [
    "Also we can see that there are no null values. \n",
    "\n",
    "Let's first see how are target variable is distributed. "
   ]
  },
  {
   "cell_type": "code",
   "execution_count": null,
   "metadata": {},
   "outputs": [],
   "source": [
    "_,ax = plt.subplots(ncols=2, figsize=(16,8))\n",
    "sns.set_style('darkgrid')\n",
    "sns.distplot(train['y'], ax=ax[0])\n",
    "sns.distplot(np.log(train['y']), ax=ax[1])"
   ]
  },
  {
   "cell_type": "code",
   "execution_count": null,
   "metadata": {},
   "outputs": [],
   "source": [
    "train['y'].describe()"
   ]
  },
  {
   "cell_type": "markdown",
   "metadata": {},
   "source": [
    "So the target variable 'y'(time in seconds a car took to pass testing) caries from 72.11 to 265.32 with a mean of 100.67 and standard deviation of 12.68 . Also the first plot shows that it is positively skewed and has high kurtosis. \n",
    "Since most of the statistical tests require the variable to be normally distributed, lets use log transformation on 'y' to bring it closer to normal. "
   ]
  },
  {
   "cell_type": "code",
   "execution_count": 11,
   "metadata": {
    "ExecuteTime": {
     "end_time": "2018-01-24T07:08:01.621085Z",
     "start_time": "2018-01-24T07:08:00.976650Z"
    }
   },
   "outputs": [
    {
     "name": "stdout",
     "output_type": "stream",
     "text": [
      "Before Transformation : \n",
      "Skewness : 1.2060958289669412\n",
      "Kurtosis : 7.899893252938124\n",
      "\n",
      "After Transformation : \n",
      "Skewness : 0.38984118039470267\n",
      "Kurtosis : 1.3065600357272684\n"
     ]
    },
    {
     "data": {
      "image/png": "[encoded data removed]",
      "text/plain": [
       "<matplotlib.figure.Figure at 0x7f9070c30668>"
      ]
     },
     "metadata": {},
     "output_type": "display_data"
    }
   ],
   "source": [
    "print (\"Before Transformation : \")\n",
    "print (\"Skewness : {0}\".format(stats.skew((train['y']))))\n",
    "print (\"Kurtosis : {0}\".format(stats.kurtosis(train['y'])))\n",
    "\n",
    "train['logy'] = np.log(train['y'])\n",
    "\n",
    "print (\"\\nAfter Transformation : \")\n",
    "print (\"Skewness : {0}\".format(stats.skew((train['logy']))))\n",
    "print (\"Kurtosis : {0}\".format(stats.kurtosis(train['logy'])))\n",
    "\n",
    "_, ax = plt.subplots()\n",
    "prob = stats.probplot(train['logy'], plot=ax)"
   ]
  },
  {
   "cell_type": "markdown",
   "metadata": {},
   "source": [
    "After transformation we see that the skewness and kurtosis are within acceptable range ie between +2 to -2. \n",
    "\n",
    "Now we will analyse our categorical variables.\n",
    "\n",
    "## Categorical Varibles"
   ]
  },
  {
   "cell_type": "code",
   "execution_count": null,
   "metadata": {
    "scrolled": true
   },
   "outputs": [],
   "source": [
    "train[cat_feat].describe()"
   ]
  },
  {
   "cell_type": "markdown",
   "metadata": {},
   "source": [
    "Lets individually check X3, X4 as they have relatively few levels. \n",
    "#### X3"
   ]
  },
  {
   "cell_type": "code",
   "execution_count": null,
   "metadata": {},
   "outputs": [],
   "source": [
    "train['X3'].value_counts()\n",
    "train['X3'].head(20)"
   ]
  },
  {
   "cell_type": "code",
   "execution_count": null,
   "metadata": {},
   "outputs": [],
   "source": [
    "_, ax = plt.subplots(figsize=(16,8), ncols=2)\n",
    "sns.violinplot(x='X3', y='y', data=train, cut=0, inner='quartile', ax=ax[0], scale='width')\n",
    "sns.boxplot(x='X3', y='y', data=train, ax=ax[1])"
   ]
  },
  {
   "cell_type": "code",
   "execution_count": null,
   "metadata": {},
   "outputs": [],
   "source": [
    "g = sns.FacetGrid(train, col_wrap=3, size=4, aspect=1, col='X3')\n",
    "g = g.map(plt.hist, 'y')"
   ]
  },
  {
   "cell_type": "markdown",
   "metadata": {},
   "source": [
    "Above 2 plots show quite a contrast in our target feature 'y' amongst various levels of X3. Target feature 'y' has a distinguishably different mean and distributions for levels c, f, d, b. So this feature X3 seems important but lets try to quantify our findings by runnings an ANOVA and see whether these changes in y are by chance or X3 is statiscally important. "
   ]
  },
  {
   "cell_type": "code",
   "execution_count": 98,
   "metadata": {
    "ExecuteTime": {
     "end_time": "2018-01-24T10:35:40.468870Z",
     "start_time": "2018-01-24T10:35:40.388937Z"
    },
    "code_folding": [
     0
    ],
    "scrolled": true
   },
   "outputs": [
    {
     "data": {
      "text/html": [
       "<div>\n",
       "<style>\n",
       "    .dataframe thead tr:only-child th {\n",
       "        text-align: right;\n",
       "    }\n",
       "\n",
       "    .dataframe thead th {\n",
       "        text-align: left;\n",
       "    }\n",
       "\n",
       "    .dataframe tbody tr th {\n",
       "        vertical-align: top;\n",
       "    }\n",
       "</style>\n",
       "<table border=\"1\" class=\"dataframe\">\n",
       "  <thead>\n",
       "    <tr style=\"text-align: right;\">\n",
       "      <th></th>\n",
       "      <th>f-stat</th>\n",
       "      <th>p-value</th>\n",
       "    </tr>\n",
       "  </thead>\n",
       "  <tbody>\n",
       "    <tr>\n",
       "      <th>X3</th>\n",
       "      <td>37.5434</td>\n",
       "      <td>1.30815e-44</td>\n",
       "    </tr>\n",
       "  </tbody>\n",
       "</table>\n",
       "</div>"
      ],
      "text/plain": [
       "     f-stat      p-value\n",
       "X3  37.5434  1.30815e-44"
      ]
     },
     "execution_count": 98,
     "metadata": {},
     "output_type": "execute_result"
    }
   ],
   "source": [
    "anova(['X3'], 'logy', train)"
   ]
  },
  {
   "cell_type": "markdown",
   "metadata": {},
   "source": [
    "With a high F-statistic and low p-value we can say that the differences in mean in target feature y/logy aren't by chance but due to X3. But to find out whether all levels make a significant difference we need to one-hot encode our variables and then conduct a t-test and find a p-value for each dummy variable. \n",
    "Let's try a similar analysis for X4 and X6\n",
    "\n",
    "### X4\n"
   ]
  },
  {
   "cell_type": "code",
   "execution_count": null,
   "metadata": {},
   "outputs": [],
   "source": [
    "g = sns.FacetGrid(col='X4', data=train, col_wrap=4, size=4, aspect=1)\n",
    "g = g.map(plt.hist, 'y')\n"
   ]
  },
  {
   "cell_type": "code",
   "execution_count": null,
   "metadata": {},
   "outputs": [],
   "source": [
    "train['X4'].value_counts()"
   ]
  },
  {
   "cell_type": "markdown",
   "metadata": {},
   "source": [
    "As we see most of the values in X4 belong to level 'd' and thus this feature could be dropped for being a near zero variance predictor. \n",
    "\n",
    "### X6"
   ]
  },
  {
   "cell_type": "code",
   "execution_count": null,
   "metadata": {},
   "outputs": [],
   "source": [
    "train['X6'].value_counts()"
   ]
  },
  {
   "cell_type": "code",
   "execution_count": null,
   "metadata": {},
   "outputs": [],
   "source": [
    "g = sns.FacetGrid(data=train, col='X6', size=4, aspect=1, col_wrap=4)\n",
    "g.map(plt.hist, 'y')"
   ]
  },
  {
   "cell_type": "code",
   "execution_count": null,
   "metadata": {},
   "outputs": [],
   "source": [
    "_, ax = plt.subplots(figsize=(16,8), ncols=2)\n",
    "sns.violinplot(x='X6', y='y', data=train, ax=ax[0], cut=0, inner='quartile')\n",
    "sns.boxplot(x='X6', y='y', data=train, ax=ax[1])"
   ]
  },
  {
   "cell_type": "markdown",
   "metadata": {},
   "source": [
    "The plots show that the categories make a difference in the target feature. Let's verify this statistically. "
   ]
  },
  {
   "cell_type": "code",
   "execution_count": 95,
   "metadata": {
    "ExecuteTime": {
     "end_time": "2018-01-24T10:34:11.177788Z",
     "start_time": "2018-01-24T10:34:11.061525Z"
    }
   },
   "outputs": [
    {
     "data": {
      "text/html": [
       "<div>\n",
       "<style>\n",
       "    .dataframe thead tr:only-child th {\n",
       "        text-align: right;\n",
       "    }\n",
       "\n",
       "    .dataframe thead th {\n",
       "        text-align: left;\n",
       "    }\n",
       "\n",
       "    .dataframe tbody tr th {\n",
       "        vertical-align: top;\n",
       "    }\n",
       "</style>\n",
       "<table border=\"1\" class=\"dataframe\">\n",
       "  <thead>\n",
       "    <tr style=\"text-align: right;\">\n",
       "      <th></th>\n",
       "      <th>f-stat</th>\n",
       "      <th>p-value</th>\n",
       "    </tr>\n",
       "  </thead>\n",
       "  <tbody>\n",
       "    <tr>\n",
       "      <th>X6</th>\n",
       "      <td>4.53131</td>\n",
       "      <td>7.37401e-07</td>\n",
       "    </tr>\n",
       "  </tbody>\n",
       "</table>\n",
       "</div>"
      ],
      "text/plain": [
       "     f-stat      p-value\n",
       "X6  4.53131  7.37401e-07"
      ]
     },
     "execution_count": 95,
     "metadata": {},
     "output_type": "execute_result"
    }
   ],
   "source": [
    "anova(['X6'], 'logy', train)"
   ]
  },
  {
   "cell_type": "markdown",
   "metadata": {},
   "source": [
    "Yup, X6 is also statiscally significant. So lets check p-value for each of the categorical features. "
   ]
  },
  {
   "cell_type": "code",
   "execution_count": 96,
   "metadata": {
    "ExecuteTime": {
     "end_time": "2018-01-24T10:34:49.284428Z",
     "start_time": "2018-01-24T10:34:48.239593Z"
    },
    "scrolled": true
   },
   "outputs": [
    {
     "data": {
      "text/html": [
       "<div>\n",
       "<style>\n",
       "    .dataframe thead tr:only-child th {\n",
       "        text-align: right;\n",
       "    }\n",
       "\n",
       "    .dataframe thead th {\n",
       "        text-align: left;\n",
       "    }\n",
       "\n",
       "    .dataframe tbody tr th {\n",
       "        vertical-align: top;\n",
       "    }\n",
       "</style>\n",
       "<table border=\"1\" class=\"dataframe\">\n",
       "  <thead>\n",
       "    <tr style=\"text-align: right;\">\n",
       "      <th></th>\n",
       "      <th>f-stat</th>\n",
       "      <th>p-value</th>\n",
       "    </tr>\n",
       "  </thead>\n",
       "  <tbody>\n",
       "    <tr>\n",
       "      <th>X0</th>\n",
       "      <td>156.423</td>\n",
       "      <td>0</td>\n",
       "    </tr>\n",
       "    <tr>\n",
       "      <th>X1</th>\n",
       "      <td>8.25031</td>\n",
       "      <td>1.16538e-30</td>\n",
       "    </tr>\n",
       "    <tr>\n",
       "      <th>X2</th>\n",
       "      <td>33.0128</td>\n",
       "      <td>3.94362e-229</td>\n",
       "    </tr>\n",
       "    <tr>\n",
       "      <th>X3</th>\n",
       "      <td>37.5434</td>\n",
       "      <td>1.30815e-44</td>\n",
       "    </tr>\n",
       "    <tr>\n",
       "      <th>X4</th>\n",
       "      <td>2.284</td>\n",
       "      <td>0.0769297</td>\n",
       "    </tr>\n",
       "    <tr>\n",
       "      <th>X5</th>\n",
       "      <td>2.13207</td>\n",
       "      <td>0.000477215</td>\n",
       "    </tr>\n",
       "    <tr>\n",
       "      <th>X6</th>\n",
       "      <td>4.53131</td>\n",
       "      <td>7.37401e-07</td>\n",
       "    </tr>\n",
       "    <tr>\n",
       "      <th>X8</th>\n",
       "      <td>5.60663</td>\n",
       "      <td>4.84094e-17</td>\n",
       "    </tr>\n",
       "  </tbody>\n",
       "</table>\n",
       "</div>"
      ],
      "text/plain": [
       "     f-stat       p-value\n",
       "X0  156.423             0\n",
       "X1  8.25031   1.16538e-30\n",
       "X2  33.0128  3.94362e-229\n",
       "X3  37.5434   1.30815e-44\n",
       "X4    2.284     0.0769297\n",
       "X5  2.13207   0.000477215\n",
       "X6  4.53131   7.37401e-07\n",
       "X8  5.60663   4.84094e-17"
      ]
     },
     "execution_count": 96,
     "metadata": {},
     "output_type": "execute_result"
    }
   ],
   "source": [
    "anova(cat_feat, 'logy', train)"
   ]
  },
  {
   "cell_type": "markdown",
   "metadata": {},
   "source": [
    "The features are statistically significant except for X4. And as we saw X4 is a near 0 variance predictorand so it is better to not include it in modelling. \n",
    "\n",
    "Let's now analyse our binary features. \n",
    "## Binary features"
   ]
  },
  {
   "cell_type": "code",
   "execution_count": 12,
   "metadata": {
    "ExecuteTime": {
     "end_time": "2018-01-24T07:08:20.423267Z",
     "start_time": "2018-01-24T07:08:18.437032Z"
    }
   },
   "outputs": [
    {
     "data": {
      "text/plain": [
       "56"
      ]
     },
     "execution_count": 12,
     "metadata": {},
     "output_type": "execute_result"
    }
   ],
   "source": [
    "train1 = train.T.drop_duplicates().T\n",
    "rem_feat = [f for f in list(train.columns) if f not in list(train1.columns)]\n",
    "len(rem_feat)\n",
    "\n",
    "# The above operation changes the data type of numeric features to 'object' so let's change them back. \n",
    "train1['y'] = pd.to_numeric(train1['y'])\n",
    "train1['ID'] = pd.to_numeric(train['ID'])\n",
    "train1['logy'] = pd.to_numeric(train['logy'])"
   ]
  },
  {
   "cell_type": "markdown",
   "metadata": {},
   "source": [
    "This removes 56 duplicate features from train dataframe. `rem_feat` contains features that were removed. Let's also remove them from `test`. "
   ]
  },
  {
   "cell_type": "code",
   "execution_count": 13,
   "metadata": {
    "ExecuteTime": {
     "end_time": "2018-01-24T07:08:22.619540Z",
     "start_time": "2018-01-24T07:08:22.604526Z"
    }
   },
   "outputs": [],
   "source": [
    "test1 = test.drop(rem_feat, axis=1)"
   ]
  },
  {
   "cell_type": "code",
   "execution_count": 14,
   "metadata": {
    "ExecuteTime": {
     "end_time": "2018-01-24T07:08:25.226933Z",
     "start_time": "2018-01-24T07:08:24.014639Z"
    },
    "scrolled": true
   },
   "outputs": [
    {
     "data": {
      "text/html": [
       "<div>\n",
       "<style>\n",
       "    .dataframe thead tr:only-child th {\n",
       "        text-align: right;\n",
       "    }\n",
       "\n",
       "    .dataframe thead th {\n",
       "        text-align: left;\n",
       "    }\n",
       "\n",
       "    .dataframe tbody tr th {\n",
       "        vertical-align: top;\n",
       "    }\n",
       "</style>\n",
       "<table border=\"1\" class=\"dataframe\">\n",
       "  <thead>\n",
       "    <tr style=\"text-align: right;\">\n",
       "      <th></th>\n",
       "      <th>feature</th>\n",
       "      <th>variance</th>\n",
       "    </tr>\n",
       "  </thead>\n",
       "  <tbody>\n",
       "    <tr>\n",
       "      <th>155</th>\n",
       "      <td>X11</td>\n",
       "      <td>0</td>\n",
       "    </tr>\n",
       "    <tr>\n",
       "      <th>54</th>\n",
       "      <td>X257</td>\n",
       "      <td>0.000237586</td>\n",
       "    </tr>\n",
       "    <tr>\n",
       "      <th>132</th>\n",
       "      <td>X207</td>\n",
       "      <td>0.000237586</td>\n",
       "    </tr>\n",
       "    <tr>\n",
       "      <th>1</th>\n",
       "      <td>X259</td>\n",
       "      <td>0.000237586</td>\n",
       "    </tr>\n",
       "    <tr>\n",
       "      <th>125</th>\n",
       "      <td>X339</td>\n",
       "      <td>0.000237586</td>\n",
       "    </tr>\n",
       "    <tr>\n",
       "      <th>124</th>\n",
       "      <td>X33</td>\n",
       "      <td>0.000237586</td>\n",
       "    </tr>\n",
       "    <tr>\n",
       "      <th>181</th>\n",
       "      <td>X210</td>\n",
       "      <td>0.000237586</td>\n",
       "    </tr>\n",
       "    <tr>\n",
       "      <th>291</th>\n",
       "      <td>X280</td>\n",
       "      <td>0.000237586</td>\n",
       "    </tr>\n",
       "    <tr>\n",
       "      <th>35</th>\n",
       "      <td>X190</td>\n",
       "      <td>0.000237586</td>\n",
       "    </tr>\n",
       "    <tr>\n",
       "      <th>95</th>\n",
       "      <td>X95</td>\n",
       "      <td>0.000237586</td>\n",
       "    </tr>\n",
       "    <tr>\n",
       "      <th>312</th>\n",
       "      <td>X42</td>\n",
       "      <td>0.000237586</td>\n",
       "    </tr>\n",
       "    <tr>\n",
       "      <th>142</th>\n",
       "      <td>X260</td>\n",
       "      <td>0.000237586</td>\n",
       "    </tr>\n",
       "    <tr>\n",
       "      <th>118</th>\n",
       "      <td>X288</td>\n",
       "      <td>0.000237586</td>\n",
       "    </tr>\n",
       "    <tr>\n",
       "      <th>43</th>\n",
       "      <td>X270</td>\n",
       "      <td>0.000237586</td>\n",
       "    </tr>\n",
       "    <tr>\n",
       "      <th>98</th>\n",
       "      <td>X205</td>\n",
       "      <td>0.000237586</td>\n",
       "    </tr>\n",
       "    <tr>\n",
       "      <th>282</th>\n",
       "      <td>X295</td>\n",
       "      <td>0.000237586</td>\n",
       "    </tr>\n",
       "    <tr>\n",
       "      <th>197</th>\n",
       "      <td>X204</td>\n",
       "      <td>0.000237586</td>\n",
       "    </tr>\n",
       "    <tr>\n",
       "      <th>53</th>\n",
       "      <td>X369</td>\n",
       "      <td>0.000475059</td>\n",
       "    </tr>\n",
       "    <tr>\n",
       "      <th>46</th>\n",
       "      <td>X319</td>\n",
       "      <td>0.000475059</td>\n",
       "    </tr>\n",
       "    <tr>\n",
       "      <th>287</th>\n",
       "      <td>X15</td>\n",
       "      <td>0.000475059</td>\n",
       "    </tr>\n",
       "    <tr>\n",
       "      <th>300</th>\n",
       "      <td>X372</td>\n",
       "      <td>0.000475059</td>\n",
       "    </tr>\n",
       "    <tr>\n",
       "      <th>97</th>\n",
       "      <td>X269</td>\n",
       "      <td>0.000475059</td>\n",
       "    </tr>\n",
       "    <tr>\n",
       "      <th>305</th>\n",
       "      <td>X384</td>\n",
       "      <td>0.000475059</td>\n",
       "    </tr>\n",
       "    <tr>\n",
       "      <th>250</th>\n",
       "      <td>X278</td>\n",
       "      <td>0.000475059</td>\n",
       "    </tr>\n",
       "    <tr>\n",
       "      <th>220</th>\n",
       "      <td>X124</td>\n",
       "      <td>0.000475059</td>\n",
       "    </tr>\n",
       "    <tr>\n",
       "      <th>198</th>\n",
       "      <td>X236</td>\n",
       "      <td>0.000475059</td>\n",
       "    </tr>\n",
       "    <tr>\n",
       "      <th>90</th>\n",
       "      <td>X153</td>\n",
       "      <td>0.00071242</td>\n",
       "    </tr>\n",
       "    <tr>\n",
       "      <th>111</th>\n",
       "      <td>X89</td>\n",
       "      <td>0.00071242</td>\n",
       "    </tr>\n",
       "    <tr>\n",
       "      <th>166</th>\n",
       "      <td>X332</td>\n",
       "      <td>0.00071242</td>\n",
       "    </tr>\n",
       "    <tr>\n",
       "      <th>24</th>\n",
       "      <td>X40</td>\n",
       "      <td>0.00071242</td>\n",
       "    </tr>\n",
       "    <tr>\n",
       "      <th>...</th>\n",
       "      <td>...</td>\n",
       "      <td>...</td>\n",
       "    </tr>\n",
       "    <tr>\n",
       "      <th>159</th>\n",
       "      <td>X171</td>\n",
       "      <td>0.225279</td>\n",
       "    </tr>\n",
       "    <tr>\n",
       "      <th>256</th>\n",
       "      <td>X64</td>\n",
       "      <td>0.234468</td>\n",
       "    </tr>\n",
       "    <tr>\n",
       "      <th>106</th>\n",
       "      <td>X118</td>\n",
       "      <td>0.235114</td>\n",
       "    </tr>\n",
       "    <tr>\n",
       "      <th>286</th>\n",
       "      <td>X355</td>\n",
       "      <td>0.235746</td>\n",
       "    </tr>\n",
       "    <tr>\n",
       "      <th>257</th>\n",
       "      <td>X251</td>\n",
       "      <td>0.238854</td>\n",
       "    </tr>\n",
       "    <tr>\n",
       "      <th>225</th>\n",
       "      <td>X311</td>\n",
       "      <td>0.240359</td>\n",
       "    </tr>\n",
       "    <tr>\n",
       "      <th>30</th>\n",
       "      <td>X46</td>\n",
       "      <td>0.240592</td>\n",
       "    </tr>\n",
       "    <tr>\n",
       "      <th>265</th>\n",
       "      <td>X85</td>\n",
       "      <td>0.241625</td>\n",
       "    </tr>\n",
       "    <tr>\n",
       "      <th>199</th>\n",
       "      <td>X246</td>\n",
       "      <td>0.241842</td>\n",
       "    </tr>\n",
       "    <tr>\n",
       "      <th>148</th>\n",
       "      <td>X137</td>\n",
       "      <td>0.243359</td>\n",
       "    </tr>\n",
       "    <tr>\n",
       "      <th>37</th>\n",
       "      <td>X261</td>\n",
       "      <td>0.24359</td>\n",
       "    </tr>\n",
       "    <tr>\n",
       "      <th>271</th>\n",
       "      <td>X187</td>\n",
       "      <td>0.243742</td>\n",
       "    </tr>\n",
       "    <tr>\n",
       "      <th>249</th>\n",
       "      <td>X58</td>\n",
       "      <td>0.244439</td>\n",
       "    </tr>\n",
       "    <tr>\n",
       "      <th>204</th>\n",
       "      <td>X358</td>\n",
       "      <td>0.244721</td>\n",
       "    </tr>\n",
       "    <tr>\n",
       "      <th>100</th>\n",
       "      <td>X14</td>\n",
       "      <td>0.244893</td>\n",
       "    </tr>\n",
       "    <tr>\n",
       "      <th>252</th>\n",
       "      <td>X314</td>\n",
       "      <td>0.245393</td>\n",
       "    </tr>\n",
       "    <tr>\n",
       "      <th>115</th>\n",
       "      <td>X329</td>\n",
       "      <td>0.245867</td>\n",
       "    </tr>\n",
       "    <tr>\n",
       "      <th>214</th>\n",
       "      <td>X220</td>\n",
       "      <td>0.246316</td>\n",
       "    </tr>\n",
       "    <tr>\n",
       "      <th>49</th>\n",
       "      <td>X178</td>\n",
       "      <td>0.246767</td>\n",
       "    </tr>\n",
       "    <tr>\n",
       "      <th>281</th>\n",
       "      <td>X223</td>\n",
       "      <td>0.247007</td>\n",
       "    </tr>\n",
       "    <tr>\n",
       "      <th>184</th>\n",
       "      <td>X250</td>\n",
       "      <td>0.247264</td>\n",
       "    </tr>\n",
       "    <tr>\n",
       "      <th>34</th>\n",
       "      <td>X334</td>\n",
       "      <td>0.248659</td>\n",
       "    </tr>\n",
       "    <tr>\n",
       "      <th>285</th>\n",
       "      <td>X186</td>\n",
       "      <td>0.248764</td>\n",
       "    </tr>\n",
       "    <tr>\n",
       "      <th>38</th>\n",
       "      <td>X194</td>\n",
       "      <td>0.248764</td>\n",
       "    </tr>\n",
       "    <tr>\n",
       "      <th>93</th>\n",
       "      <td>X191</td>\n",
       "      <td>0.249212</td>\n",
       "    </tr>\n",
       "    <tr>\n",
       "      <th>89</th>\n",
       "      <td>X362</td>\n",
       "      <td>0.249647</td>\n",
       "    </tr>\n",
       "    <tr>\n",
       "      <th>195</th>\n",
       "      <td>X337</td>\n",
       "      <td>0.249787</td>\n",
       "    </tr>\n",
       "    <tr>\n",
       "      <th>176</th>\n",
       "      <td>X127</td>\n",
       "      <td>0.250036</td>\n",
       "    </tr>\n",
       "    <tr>\n",
       "      <th>187</th>\n",
       "      <td>y</td>\n",
       "      <td>160.767</td>\n",
       "    </tr>\n",
       "    <tr>\n",
       "      <th>168</th>\n",
       "      <td>ID</td>\n",
       "      <td>5.94194e+06</td>\n",
       "    </tr>\n",
       "  </tbody>\n",
       "</table>\n",
       "<p>315 rows × 2 columns</p>\n",
       "</div>"
      ],
      "text/plain": [
       "    feature     variance\n",
       "155     X11            0\n",
       "54     X257  0.000237586\n",
       "132    X207  0.000237586\n",
       "1      X259  0.000237586\n",
       "125    X339  0.000237586\n",
       "124     X33  0.000237586\n",
       "181    X210  0.000237586\n",
       "291    X280  0.000237586\n",
       "35     X190  0.000237586\n",
       "95      X95  0.000237586\n",
       "312     X42  0.000237586\n",
       "142    X260  0.000237586\n",
       "118    X288  0.000237586\n",
       "43     X270  0.000237586\n",
       "98     X205  0.000237586\n",
       "282    X295  0.000237586\n",
       "197    X204  0.000237586\n",
       "53     X369  0.000475059\n",
       "46     X319  0.000475059\n",
       "287     X15  0.000475059\n",
       "300    X372  0.000475059\n",
       "97     X269  0.000475059\n",
       "305    X384  0.000475059\n",
       "250    X278  0.000475059\n",
       "220    X124  0.000475059\n",
       "198    X236  0.000475059\n",
       "90     X153   0.00071242\n",
       "111     X89   0.00071242\n",
       "166    X332   0.00071242\n",
       "24      X40   0.00071242\n",
       "..      ...          ...\n",
       "159    X171     0.225279\n",
       "256     X64     0.234468\n",
       "106    X118     0.235114\n",
       "286    X355     0.235746\n",
       "257    X251     0.238854\n",
       "225    X311     0.240359\n",
       "30      X46     0.240592\n",
       "265     X85     0.241625\n",
       "199    X246     0.241842\n",
       "148    X137     0.243359\n",
       "37     X261      0.24359\n",
       "271    X187     0.243742\n",
       "249     X58     0.244439\n",
       "204    X358     0.244721\n",
       "100     X14     0.244893\n",
       "252    X314     0.245393\n",
       "115    X329     0.245867\n",
       "214    X220     0.246316\n",
       "49     X178     0.246767\n",
       "281    X223     0.247007\n",
       "184    X250     0.247264\n",
       "34     X334     0.248659\n",
       "285    X186     0.248764\n",
       "38     X194     0.248764\n",
       "93     X191     0.249212\n",
       "89     X362     0.249647\n",
       "195    X337     0.249787\n",
       "176    X127     0.250036\n",
       "187       y      160.767\n",
       "168      ID  5.94194e+06\n",
       "\n",
       "[315 rows x 2 columns]"
      ]
     },
     "execution_count": 14,
     "metadata": {},
     "output_type": "execute_result"
    }
   ],
   "source": [
    "var_df = pd.DataFrame(columns=['feature', 'variance'])\n",
    "for feat in list(set(train1.columns)-set(cat_feat)) : \n",
    "    var_df.loc[var_df.shape[0],:] = list((feat, train1[feat].var()))\n",
    "var_df = var_df.sort_values(by='variance', axis=0)\n",
    "var_df"
   ]
  },
  {
   "cell_type": "markdown",
   "metadata": {},
   "source": [
    "There is one feature X11 which has 0 variance and many number of features that have near 0 variance. We can comfortably drop X11 but for other near-zero variance features I am not that comfortable to simply drop them without analysing further. So first let's drop X11. "
   ]
  },
  {
   "cell_type": "code",
   "execution_count": 15,
   "metadata": {
    "ExecuteTime": {
     "end_time": "2018-01-24T07:08:30.107129Z",
     "start_time": "2018-01-24T07:08:30.059907Z"
    }
   },
   "outputs": [],
   "source": [
    "train1 = train1.drop('X11', axis=1)\n",
    "test1 = test1.drop('X11', axis=1)"
   ]
  },
  {
   "cell_type": "markdown",
   "metadata": {},
   "source": [
    "Now let's see how is our train-test data split. "
   ]
  },
  {
   "cell_type": "code",
   "execution_count": 136,
   "metadata": {
    "ExecuteTime": {
     "end_time": "2018-01-24T18:45:34.412022Z",
     "start_time": "2018-01-24T18:45:30.240463Z"
    }
   },
   "outputs": [
    {
     "data": {
      "image/png": "[encoded data removed]",
      "text/plain": [
       "<matplotlib.figure.Figure at 0x7f903d762358>"
      ]
     },
     "metadata": {},
     "output_type": "display_data"
    }
   ],
   "source": [
    "_, ax = plt.subplots(figsize=(16,8), ncols=2)\n",
    "ax0=sns.regplot(train1.index.values, train1.ID, ax=ax[0], fit_reg=False, label='train')\n",
    "ax1=sns.regplot(test.index.values, test.ID, ax=ax[1], fit_reg=False, label='test')\n",
    "_=ax1.set_xlabel('Index')\n",
    "_=ax0.set_xlabel('Index')\n"
   ]
  },
  {
   "cell_type": "code",
   "execution_count": null,
   "metadata": {
    "ExecuteTime": {
     "end_time": "2018-01-22T19:04:56.795981Z",
     "start_time": "2018-01-22T19:04:55.071140Z"
    }
   },
   "outputs": [],
   "source": [
    "_,ax = plt.subplots(ncols=2, figsize=(16,8))\n",
    "sns.distplot(train1['ID'], ax=ax[0], hist_kws=dict(edgecolor=\"k\", linewidth=2))\n",
    "sns.distplot(test['ID'], ax=ax[1], hist_kws=dict(edgecolor=\"k\", linewidth=2))"
   ]
  },
  {
   "cell_type": "markdown",
   "metadata": {},
   "source": [
    "The above 2 plots try to figure out on what basis test-train split has been made. `ID` feature is a unique ID of each row or each car. `ID` is distributed from 0 to 8417, each of test and train contanis half of them and from the histogram the distribution also looks close to random. \n",
    "\n",
    "So now we will try to fit a simple random forest model which could serve as our baseline model. \n",
    "\n",
    "### Random Forest"
   ]
  },
  {
   "cell_type": "markdown",
   "metadata": {},
   "source": [
    "First we need to encode our features in `cat_feat`. We will try both label encoding and one hot encoding and see which gives better score. Also we need not out features in `num_feat` as they are already in binary form. "
   ]
  },
  {
   "cell_type": "code",
   "execution_count": 16,
   "metadata": {
    "ExecuteTime": {
     "end_time": "2018-01-24T07:09:07.825421Z",
     "start_time": "2018-01-24T07:09:06.538005Z"
    },
    "code_folding": []
   },
   "outputs": [],
   "source": [
    "# first label encode our cat_feat\n",
    "encoder = LabelEncoder()\n",
    "train_le = train1.copy()\n",
    "test_le = test1.copy()\n",
    "train_test = pd.concat(( train_le.drop(['y','logy'], axis=1) , test_le), axis=0, ignore_index=True)\n",
    "for feat in cat_feat : \n",
    "    train_test.loc[:,feat] = encoder.fit_transform(train_test[feat])\n",
    "    \n",
    "train_le.loc[:,:] = train_test.loc[:train1.shape[0], :]\n",
    "train_le.loc[:, 'y'] = train1.loc[:, 'y']\n",
    "train_le.loc[:, 'logy'] = train1.loc[:, 'logy']\n",
    "test_le = train_test.loc[train1.shape[0]:, :]"
   ]
  },
  {
   "cell_type": "code",
   "execution_count": null,
   "metadata": {
    "ExecuteTime": {
     "end_time": "2018-01-23T13:29:15.511316Z",
     "start_time": "2018-01-23T13:29:15.341136Z"
    }
   },
   "outputs": [],
   "source": [
    "train[cat_feat].describe()\n",
    "test[cat_feat].describe()"
   ]
  },
  {
   "cell_type": "markdown",
   "metadata": {},
   "source": [
    "As we see in description of `cat_feat` in train and test, we notice that for features `X0`, `X2` and `X5` test has more levels that train. Let's analyse them more. "
   ]
  },
  {
   "cell_type": "code",
   "execution_count": null,
   "metadata": {
    "ExecuteTime": {
     "end_time": "2018-01-22T21:05:07.471738Z",
     "start_time": "2018-01-22T21:05:07.372650Z"
    }
   },
   "outputs": [],
   "source": [
    "exclusive_levels(train1, test1, cat_feat)"
   ]
  },
  {
   "cell_type": "markdown",
   "metadata": {},
   "source": [
    "The function `exclusive_levels` prints the levels that are only present in either train or test. The output shows that in `X0`, `X2` and `X5` features have few levels that are only present in train or test. \n",
    "1. For the ones present only in train, we can encode them in test by all 0s. \n",
    "2. For the ones present only in test, we can delete/remove them as their encoding in train will be all zeros and will not provide any more information to our model while training. Also when our model will meet some of these level/features in test it will have no prior experience of these values and might give unexpected results. \n",
    "\n",
    "So for now we will concat train and test, one hot encode the combined dataframe, remove the features that are only present in test and separate them again. "
   ]
  },
  {
   "cell_type": "code",
   "execution_count": 17,
   "metadata": {
    "ExecuteTime": {
     "end_time": "2018-01-24T07:09:26.798287Z",
     "start_time": "2018-01-24T07:09:25.978325Z"
    },
    "scrolled": false
   },
   "outputs": [
    {
     "name": "stderr",
     "output_type": "stream",
     "text": [
      "/home/akshay/Data/skl-v/lib/python3.5/site-packages/pandas/core/indexing.py:337: SettingWithCopyWarning: \n",
      "A value is trying to be set on a copy of a slice from a DataFrame.\n",
      "Try using .loc[row_indexer,col_indexer] = value instead\n",
      "\n",
      "See the caveats in the documentation: http://pandas.pydata.org/pandas-docs/stable/indexing.html#indexing-view-versus-copy\n",
      "  self.obj[key] = _infer_fill_value(value)\n",
      "/home/akshay/Data/skl-v/lib/python3.5/site-packages/pandas/core/indexing.py:517: SettingWithCopyWarning: \n",
      "A value is trying to be set on a copy of a slice from a DataFrame.\n",
      "Try using .loc[row_indexer,col_indexer] = value instead\n",
      "\n",
      "See the caveats in the documentation: http://pandas.pydata.org/pandas-docs/stable/indexing.html#indexing-view-versus-copy\n",
      "  self.obj[item] = s\n"
     ]
    }
   ],
   "source": [
    "train_test = pd.concat((train1.drop(['y','logy'], axis=1), test1), axis=0, ignore_index=True)\n",
    "train_test_ohe = pd.get_dummies(train_test, columns=cat_feat)\n",
    "features = feat_to_rem(train1, test1, cat_feat)\n",
    "train_test_ohe = train_test_ohe.drop(features, axis=1)\n",
    "\n",
    "train_ohe = pd.DataFrame(columns=train_test_ohe.columns)\n",
    "test_ohe = pd.DataFrame(columns=train_test_ohe.columns)\n",
    "train_ohe = train_test_ohe[:train1.shape[0]]\n",
    "train_ohe.loc[:,'y'] = train1['y']\n",
    "train_ohe.loc[:,'logy'] = train1['logy']\n",
    "test_ohe = train_test_ohe[train1.shape[0]:]"
   ]
  },
  {
   "cell_type": "markdown",
   "metadata": {
    "ExecuteTime": {
     "end_time": "2018-01-22T21:13:25.703857Z",
     "start_time": "2018-01-22T21:13:25.683073Z"
    }
   },
   "source": [
    "Function `feat_to_rem()` provides a list of features that should be removed according to the logic made above. \n",
    "\n",
    "So now we are ready to train our random forest model. "
   ]
  },
  {
   "cell_type": "code",
   "execution_count": 25,
   "metadata": {
    "ExecuteTime": {
     "end_time": "2018-01-24T08:01:49.617054Z",
     "start_time": "2018-01-24T07:55:42.357178Z"
    },
    "scrolled": true
   },
   "outputs": [
    {
     "name": "stderr",
     "output_type": "stream",
     "text": [
      "5it [06:07, 73.43s/it]\n"
     ]
    }
   ],
   "source": [
    "X_le = train_le.drop(['y','logy'], axis=1)\n",
    "y = train_le['y']\n",
    "logy = train_le['logy']\n",
    "kf = KFold(n_splits=5, shuffle=True, random_state=random_state)\n",
    "feat_imp_le = pd.DataFrame(columns=X_le.columns)\n",
    "for train_index, val_index in tqdm(kf.split(X_le)):\n",
    "    X_le_train, X_le_val = X_le.iloc[train_index], X_le.iloc[val_index]\n",
    "    y_train, y_val = y.iloc[train_index], y.iloc[val_index]\n",
    "    rf_le = RandomForestRegressor(n_estimators=1000, max_features='sqrt', random_state=random_state)\n",
    "    _= rf_le.fit(X_le_train, y_train)\n",
    "    feat_imp_le.loc[feat_imp_le.shape[0],:] = rf_le.feature_importances_\n",
    "    predictions_le = []\n",
    "    for tree in rf_le.estimators_:\n",
    "        predictions_le.append(tree.predict(X_le_val))\n",
    "        cum_mean_le = np.cumsum(np.array(predictions_le), axis=0)/np.arange(1, np.array(predictions_le).shape[0]+1)[:,None]\n"
   ]
  },
  {
   "cell_type": "code",
   "execution_count": 26,
   "metadata": {
    "ExecuteTime": {
     "end_time": "2018-01-24T08:02:04.322816Z",
     "start_time": "2018-01-24T08:02:02.430298Z"
    }
   },
   "outputs": [
    {
     "name": "stderr",
     "output_type": "stream",
     "text": [
      "100%|██████████| 1000/1000 [00:00<00:00, 1974.11it/s]\n"
     ]
    },
    {
     "data": {
      "text/plain": [
       "<matplotlib.axes._subplots.AxesSubplot at 0x7f90685ecf98>"
      ]
     },
     "execution_count": 26,
     "metadata": {},
     "output_type": "execute_result"
    },
    {
     "data": {
      "image/png": "[encoded data removed]",
      "text/plain": [
       "<matplotlib.figure.Figure at 0x7f90685e6f60>"
      ]
     },
     "metadata": {},
     "output_type": "display_data"
    }
   ],
   "source": [
    "r2_scores_le = []\n",
    "for y_pred in tqdm(cum_mean_le):\n",
    "    r2_scores_le.append(r2_score(y_val, y_pred))\n",
    "sns.set_style('darkgrid')\n",
    "_,ax = plt.subplots(figsize=(18,10))\n",
    "sns.pointplot(np.arange(1,cum_mean_le.shape[0]+1,20), [r2_scores_le[i] for i in list(np.arange(1,cum_mean_le.shape[0]+1,20))])"
   ]
  },
  {
   "cell_type": "markdown",
   "metadata": {
    "ExecuteTime": {
     "end_time": "2018-01-23T19:04:47.885998Z",
     "start_time": "2018-01-23T19:04:43.434991Z"
    }
   },
   "source": [
    "As we can from above plot that around 600 trees are enough for r2_score to flatten. Here we trained a random forest model on label encoded data and got an accuracy of around 0.42 . Notice that I have trained only one random forest with `n_estimators` and calculated the accuracy of all random forest models that will have `n_estimators`< 1000. \n",
    "\n",
    "Now let's try our `logy` as target and see if we can improve our score. "
   ]
  },
  {
   "cell_type": "code",
   "execution_count": 27,
   "metadata": {
    "ExecuteTime": {
     "end_time": "2018-01-24T08:03:42.084795Z",
     "start_time": "2018-01-24T08:03:30.284058Z"
    },
    "scrolled": true
   },
   "outputs": [
    {
     "name": "stdout",
     "output_type": "stream",
     "text": [
      "0.420288034722\n"
     ]
    }
   ],
   "source": [
    "rf = RandomForestRegressor(n_estimators=600, \n",
    "                           max_features='sqrt', \n",
    "                           random_state=random_state, \n",
    "                           n_jobs=-1\n",
    "                          )\n",
    "_=rf.fit(X_le.iloc[train_index], logy.iloc[train_index])\n",
    "pred_log = rf.predict(X_le.iloc[val_index])\n",
    "print (r2_score(y.iloc[val_index], np.exp(pred_log)))"
   ]
  },
  {
   "cell_type": "markdown",
   "metadata": {
    "ExecuteTime": {
     "end_time": "2018-01-23T19:23:54.902727Z",
     "start_time": "2018-01-23T19:23:54.818497Z"
    }
   },
   "source": [
    "So log transformation is also of no help. Let's now use our one hot encoded data. "
   ]
  },
  {
   "cell_type": "code",
   "execution_count": 28,
   "metadata": {
    "ExecuteTime": {
     "end_time": "2018-01-24T08:07:11.693203Z",
     "start_time": "2018-01-24T08:03:50.647432Z"
    },
    "scrolled": true
   },
   "outputs": [
    {
     "name": "stderr",
     "output_type": "stream",
     "text": [
      "5it [03:20, 40.18s/it]\n"
     ]
    }
   ],
   "source": [
    "X_ohe = train_ohe.drop(['y','logy'], axis=1)\n",
    "y = train_ohe['y']\n",
    "logy = train_ohe['logy']\n",
    "kf = KFold(n_splits=5, shuffle=True, random_state=random_state)\n",
    "feat_imp_ohe = pd.DataFrame(columns=X_ohe.columns)\n",
    "for train_index, val_index in tqdm(kf.split(X_ohe)):\n",
    "    X_ohe_train, X_ohe_val = X_ohe.iloc[train_index], X_ohe.iloc[val_index]\n",
    "    y_train, y_val = y.iloc[train_index], y.iloc[val_index]\n",
    "    rf_ohe = RandomForestRegressor(n_estimators=500, max_features='sqrt', n_jobs=-1, random_state=random_state)\n",
    "    _= rf_ohe.fit(X_ohe_train, y_train)\n",
    "    predictions_ohe = []\n",
    "    feat_imp_ohe.loc[feat_imp_ohe.shape[0],:] = rf_ohe.feature_importances_\n",
    "    for tree in rf_ohe.estimators_:\n",
    "        predictions_ohe.append(tree.predict(X_ohe_val))\n",
    "        cum_mean_ohe = np.cumsum(np.array(predictions_ohe), axis=0)/np.arange(1, np.array(predictions_ohe).shape[0]+1)[:,None]\n"
   ]
  },
  {
   "cell_type": "code",
   "execution_count": 30,
   "metadata": {
    "ExecuteTime": {
     "end_time": "2018-01-24T08:13:00.534198Z",
     "start_time": "2018-01-24T08:12:59.148122Z"
    }
   },
   "outputs": [
    {
     "name": "stderr",
     "output_type": "stream",
     "text": [
      "100%|██████████| 500/500 [00:00<00:00, 1771.21it/s]\n"
     ]
    },
    {
     "data": {
      "text/plain": [
       "<matplotlib.axes._subplots.AxesSubplot at 0x7f90684cec88>"
      ]
     },
     "execution_count": 30,
     "metadata": {},
     "output_type": "execute_result"
    },
    {
     "data": {
      "image/png": "[encoded data removed]",
      "text/plain": [
       "<matplotlib.figure.Figure at 0x7f90684ce358>"
      ]
     },
     "metadata": {},
     "output_type": "display_data"
    }
   ],
   "source": [
    "r2_scores_ohe = []\n",
    "for y_pred in tqdm(cum_mean_ohe):\n",
    "    r2_scores_ohe.append(r2_score(y_val, y_pred))\n",
    "sns.set_style('darkgrid')\n",
    "_,ax = plt.subplots(figsize=(15,10))\n",
    "sns.pointplot(np.arange(1,cum_mean_ohe.shape[0]+1,10), [r2_scores_ohe[i] for i in list(np.arange(1,cum_mean_ohe.shape[0]+1,10))])"
   ]
  },
  {
   "cell_type": "code",
   "execution_count": 31,
   "metadata": {
    "ExecuteTime": {
     "end_time": "2018-01-24T08:13:46.455522Z",
     "start_time": "2018-01-24T08:13:39.832114Z"
    }
   },
   "outputs": [
    {
     "name": "stdout",
     "output_type": "stream",
     "text": [
      "0.430808878518\n"
     ]
    }
   ],
   "source": [
    "rf = RandomForestRegressor(n_estimators=300, \n",
    "                           max_features='sqrt', \n",
    "                           random_state=random_state, \n",
    "                           n_jobs=-1\n",
    "                          )\n",
    "_=rf.fit(X_ohe.iloc[train_index], logy.iloc[train_index])\n",
    "pred_log = rf.predict(X_ohe.iloc[val_index])\n",
    "print (r2_score(y.iloc[val_index], np.exp(pred_log)))"
   ]
  },
  {
   "cell_type": "markdown",
   "metadata": {},
   "source": [
    "So while using one hot encoded features we see small improvement which doesn't change much if we log transform our target variable. The `r2_score` plateaus out at 270-280. \n",
    "\n",
    "Next we will figure out feature importances from both encodings and see which features need more attention. "
   ]
  },
  {
   "cell_type": "code",
   "execution_count": 55,
   "metadata": {
    "ExecuteTime": {
     "end_time": "2018-01-24T08:28:06.397348Z",
     "start_time": "2018-01-24T08:28:06.380984Z"
    }
   },
   "outputs": [],
   "source": [
    "feat_imp_le = feat_imp_le.mean(axis=0).sort_values()\n",
    "feat_imp_ohe = feat_imp_ohe.mean(axis=0).sort_values()"
   ]
  },
  {
   "cell_type": "code",
   "execution_count": 62,
   "metadata": {
    "ExecuteTime": {
     "end_time": "2018-01-24T08:36:43.484444Z",
     "start_time": "2018-01-24T08:36:43.440845Z"
    },
    "scrolled": true
   },
   "outputs": [
    {
     "data": {
      "text/plain": [
       "X313    0.023708\n",
       "ID      0.051794\n",
       "X261    0.061968\n",
       "X314    0.066181\n",
       "X127    0.066411\n",
       "dtype: float64"
      ]
     },
     "execution_count": 62,
     "metadata": {},
     "output_type": "execute_result"
    },
    {
     "data": {
      "text/plain": [
       "X5      0.045640\n",
       "X314    0.067214\n",
       "X261    0.069425\n",
       "ID      0.071029\n",
       "X127    0.076490\n",
       "dtype: float64"
      ]
     },
     "execution_count": 62,
     "metadata": {},
     "output_type": "execute_result"
    },
    {
     "data": {
      "text/plain": [
       "X270    7.785918e-07\n",
       "X0_g    1.069577e-06\n",
       "X280    1.511589e-06\n",
       "X42     1.852606e-06\n",
       "X210    2.203426e-06\n",
       "dtype: float64"
      ]
     },
     "execution_count": 62,
     "metadata": {},
     "output_type": "execute_result"
    },
    {
     "data": {
      "text/plain": [
       "X372    0.000002\n",
       "X280    0.000003\n",
       "X257    0.000003\n",
       "X270    0.000003\n",
       "X210    0.000003\n",
       "dtype: float64"
      ]
     },
     "execution_count": 62,
     "metadata": {},
     "output_type": "execute_result"
    }
   ],
   "source": [
    "feat_imp_ohe.tail()\n",
    "feat_imp_le.tail()\n",
    "feat_imp_ohe.head()\n",
    "feat_imp_le.head()\n"
   ]
  },
  {
   "cell_type": "markdown",
   "metadata": {
    "ExecuteTime": {
     "end_time": "2018-01-24T08:28:19.813224Z",
     "start_time": "2018-01-24T08:28:19.805147Z"
    }
   },
   "source": [
    "So here we have feature importances of model trained on both label encoded data and one hot encoded data. Let's calculate feature importances based on ANOVA and maximum variance(we have done this in `var_df`). We here take values of `logy` instead of `y` as one of the `stats.f_oneway` assumes the values to be from normal data and log transformation makes our target variable `y` close to normal."
   ]
  },
  {
   "cell_type": "code",
   "execution_count": 114,
   "metadata": {
    "ExecuteTime": {
     "end_time": "2018-01-24T10:46:41.160379Z",
     "start_time": "2018-01-24T10:45:58.202286Z"
    }
   },
   "outputs": [
    {
     "name": "stderr",
     "output_type": "stream",
     "text": [
      "  0%|          | 0/507 [00:00<?, ?it/s]/home/akshay/Data/skl-v/lib/python3.5/site-packages/scipy/stats/stats.py:2967: RuntimeWarning: divide by zero encountered in true_divide\n",
      "  msw = sswn / float(dfwn)\n",
      "100%|██████████| 507/507 [00:42<00:00, 11.82it/s]\n"
     ]
    }
   ],
   "source": [
    "feat_imp_anova = anova(X_ohe.columns, 'logy', train_ohe).sort_values(by='p-value')"
   ]
  },
  {
   "cell_type": "markdown",
   "metadata": {
    "ExecuteTime": {
     "end_time": "2018-01-24T10:46:51.278234Z",
     "start_time": "2018-01-24T10:46:51.255436Z"
    }
   },
   "source": [
    "Till now we have ranked features based on their variance, statistical significance and random forest models. So now we can analyse more important features and neglect irrelevant ones. So let's end this notebook here and we will continue this in next one. You can use `%store` magic command to store the variables you want to from this notebook so that we can use them in our notebook. "
   ]
  },
  {
   "cell_type": "code",
   "execution_count": 135,
   "metadata": {
    "ExecuteTime": {
     "end_time": "2018-01-24T16:56:29.910235Z",
     "start_time": "2018-01-24T16:56:25.798889Z"
    }
   },
   "outputs": [
    {
     "name": "stdout",
     "output_type": "stream",
     "text": [
      "Stored 'cat_feat' (Index)\n",
      "Stored 'num_feat' (Index)\n",
      "Stored 'feat_imp_anova' (DataFrame)\n",
      "Stored 'feat_imp_le' (Series)\n",
      "Stored 'feat_imp_ohe' (Series)\n",
      "Stored 'random_state' (int)\n",
      "Stored 'test' (DataFrame)\n",
      "Stored 'test1' (DataFrame)\n",
      "Stored 'test_le' (DataFrame)\n",
      "Stored 'test_ohe' (DataFrame)\n",
      "Stored 'train' (DataFrame)\n",
      "Stored 'train1' (DataFrame)\n",
      "Stored 'train_le' (DataFrame)\n",
      "Stored 'train_ohe' (DataFrame)\n",
      "Stored 'var_df' (DataFrame)\n"
     ]
    }
   ],
   "source": [
    "%store cat_feat\n",
    "%store num_feat\n",
    "%store feat_imp_anova\n",
    "%store feat_imp_le\n",
    "%store feat_imp_ohe\n",
    "%store random_state\n",
    "%store test\n",
    "%store test1\n",
    "%store test_le\n",
    "%store test_ohe\n",
    "%store train\n",
    "%store train1\n",
    "%store train_le\n",
    "%store train_ohe\n",
    "%store var_df"
   ]
  },
  {
   "cell_type": "code",
   "execution_count": null,
   "metadata": {},
   "outputs": [],
   "source": []
  }
 ],
 "metadata": {
  "kernelspec": {
   "display_name": "Python 3",
   "language": "python",
   "name": "python3"
  },
  "language_info": {
   "codemirror_mode": {
    "name": "ipython",
    "version": 3
   },
   "file_extension": ".py",
   "mimetype": "text/x-python",
   "name": "python",
   "nbconvert_exporter": "python",
   "pygments_lexer": "ipython3",
   "version": "3.5.2"
  },
  "varInspector": {
   "cols": {
    "lenName": 16,
    "lenType": 16,
    "lenVar": 40
   },
   "kernels_config": {
    "python": {
     "delete_cmd_postfix": "",
     "delete_cmd_prefix": "del ",
     "library": "var_list.py",
     "varRefreshCmd": "print(var_dic_list())"
    },
    "r": {
     "delete_cmd_postfix": ") ",
     "delete_cmd_prefix": "rm(",
     "library": "var_list.r",
     "varRefreshCmd": "cat(var_dic_list()) "
    }
   },
   "types_to_exclude": [
    "module",
    "function",
    "builtin_function_or_method",
    "instance",
    "_Feature"
   ],
   "window_display": false
  }
 },
 "nbformat": 4,
 "nbformat_minor": 2
}
